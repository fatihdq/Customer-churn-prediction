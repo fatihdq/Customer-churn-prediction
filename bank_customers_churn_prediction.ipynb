{
 "cells": [
  {
   "cell_type": "markdown",
   "id": "satisfied-composer",
   "metadata": {},
   "source": [
    "<h1 align='center'> Bank Customers Churn Prediction <h1>"
   ]
  },
  {
   "cell_type": "markdown",
   "id": "unnecessary-borough",
   "metadata": {},
   "source": [
    "Customers churn atau biasa kita tahu gesekan, pergantian pelanggan, atau pembelotan pelanggan dalam hal kehilangan klien atau pelanggan"
   ]
  },
  {
   "cell_type": "markdown",
   "id": "talented-rhythm",
   "metadata": {},
   "source": [
    "Beberapa perusahan menggunakan customers churn analysis dan customer churn rates sebagai salah satu kunci untuk bisnis mereka dikarenakan biaya untuk mempertahankan pelanggan yang sudah ada jauh lebih sedikit dari pada biaya untuk memperoleh pelanggan baru."
   ]
  },
  {
   "cell_type": "markdown",
   "id": "recognized-attitude",
   "metadata": {},
   "source": [
    "Pada project ini kita akan mencoba untuk menganalisis bagaimana perilaku nasabah suatu bank yang cenderung meninggalkan bank serta menemukan perilaku nasabah yang paling cocok melalui pendekatan exploratory data analysis dan mencoba untuk memprediksi nasabah yang diduga akan pergi sebagai pelanggan."
   ]
  },
  {
   "cell_type": "markdown",
   "id": "tribal-jones",
   "metadata": {},
   "source": [
    "Batasan pada project ini yaitu:\n",
    "1.\tData yang digunakan diperoleh dari kaggel.\n",
    "2.\tAnalisis yang digunakan hanya sebatas untuk mengetahui bagaimana ciri dari nasabah yang cenderung akan meninggalkan bank\n",
    "3.\tModel yang dihasilkan cukup untuk dapat memprediksi perilaku suatu nasabah"
   ]
  },
  {
   "cell_type": "markdown",
   "id": "mighty-update",
   "metadata": {},
   "source": [
    "Project ini tentunya dapat bermanfaat untuk meminimalisir perginya nasabah dari suatu bank dan segera mengambil tindak yang efektif dan efisien guna mempertahankan nasabah"
   ]
  },
  {
   "cell_type": "markdown",
   "id": "thermal-slope",
   "metadata": {},
   "source": [
    "Content Overview:\n",
    "1.\tReading and Understanding data\n",
    "    - Early pre-processing\n",
    "    - Data Overview\n",
    "2.\tExploratory data\n",
    "    - Univariate analysis\n",
    "    - Bivariate analysis\n",
    "    - Multivariate analysis\n",
    "3.\tData pre-processing\n",
    "    - Handing outlier\n",
    "    - Features scaling\n",
    "    - Features encoding\n",
    "    - Split dataset to x and y\n",
    "    - Features selection\n",
    "    - Split dataset to train and test set\n",
    "4.\tBuild predictive model\n",
    "    - XGBoost\n",
    "    - Logistic Regression\n",
    "    - Support Vector Machine\n",
    "    - Models comparation\n",
    "5.\tFinal Model\n",
    "6.\tSingle prediction of observation\n",
    "    - Load data, model, standard scaler, one hot encoder, and selected features\n",
    "    - Drop columns that not used for prediction\n",
    "    - Changes datatypes\n",
    "    - Select single observation randomly\n",
    "    - Feature Engineering\n",
    "    - Prediction Bank Customer\n",
    "7.\tConclusion\n",
    "\n"
   ]
  },
  {
   "cell_type": "markdown",
   "id": "weighted-posting",
   "metadata": {},
   "source": [
    "## 1. Reading and Data Understanding "
   ]
  },
  {
   "cell_type": "markdown",
   "id": "improved-builder",
   "metadata": {},
   "source": [
    "### Import Library"
   ]
  },
  {
   "cell_type": "code",
   "execution_count": 143,
   "id": "democratic-transcription",
   "metadata": {},
   "outputs": [],
   "source": [
    "import os\n",
    "import pandas as pd\n",
    "import numpy as np\n",
    "import matplotlib as mlp\n",
    "import matplotlib.pyplot as plt\n",
    "import seaborn as sns\n",
    "import joblib\n",
    "import random\n",
    "\n",
    "from sklearn.feature_selection import SelectKBest,f_classif, chi2\n",
    "from sklearn.preprocessing import StandardScaler,OneHotEncoder\n",
    "from xgboost import XGBClassifier\n",
    "from sklearn.linear_model import LogisticRegression\n",
    "from sklearn.svm import SVC\n",
    "from sklearn.model_selection import train_test_split,RandomizedSearchCV\n",
    "\n",
    "from sklearn.metrics import accuracy_score, f1_score, precision_score, recall_score, confusion_matrix, classification_report, roc_curve, auc, precision_recall_curve"
   ]
  },
  {
   "cell_type": "markdown",
   "id": "resident-treasure",
   "metadata": {},
   "source": [
    "### Data loading"
   ]
  },
  {
   "cell_type": "code",
   "execution_count": 2,
   "id": "capable-determination",
   "metadata": {},
   "outputs": [],
   "source": [
    "dataset = pd.read_csv('Churn_Modelling.csv')\n",
    "dataset2 = dataset.copy()"
   ]
  },
  {
   "cell_type": "code",
   "execution_count": 3,
   "id": "handy-horizon",
   "metadata": {},
   "outputs": [
    {
     "data": {
      "text/html": [
       "<div>\n",
       "<style scoped>\n",
       "    .dataframe tbody tr th:only-of-type {\n",
       "        vertical-align: middle;\n",
       "    }\n",
       "\n",
       "    .dataframe tbody tr th {\n",
       "        vertical-align: top;\n",
       "    }\n",
       "\n",
       "    .dataframe thead th {\n",
       "        text-align: right;\n",
       "    }\n",
       "</style>\n",
       "<table border=\"1\" class=\"dataframe\">\n",
       "  <thead>\n",
       "    <tr style=\"text-align: right;\">\n",
       "      <th></th>\n",
       "      <th>RowNumber</th>\n",
       "      <th>CustomerId</th>\n",
       "      <th>Surname</th>\n",
       "      <th>CreditScore</th>\n",
       "      <th>Geography</th>\n",
       "      <th>Gender</th>\n",
       "      <th>Age</th>\n",
       "      <th>Tenure</th>\n",
       "      <th>Balance</th>\n",
       "      <th>NumOfProducts</th>\n",
       "      <th>HasCrCard</th>\n",
       "      <th>IsActiveMember</th>\n",
       "      <th>EstimatedSalary</th>\n",
       "      <th>Exited</th>\n",
       "    </tr>\n",
       "  </thead>\n",
       "  <tbody>\n",
       "    <tr>\n",
       "      <th>0</th>\n",
       "      <td>1</td>\n",
       "      <td>15634602</td>\n",
       "      <td>Hargrave</td>\n",
       "      <td>619</td>\n",
       "      <td>France</td>\n",
       "      <td>Female</td>\n",
       "      <td>42</td>\n",
       "      <td>2</td>\n",
       "      <td>0.00</td>\n",
       "      <td>1</td>\n",
       "      <td>1</td>\n",
       "      <td>1</td>\n",
       "      <td>101348.88</td>\n",
       "      <td>1</td>\n",
       "    </tr>\n",
       "    <tr>\n",
       "      <th>1</th>\n",
       "      <td>2</td>\n",
       "      <td>15647311</td>\n",
       "      <td>Hill</td>\n",
       "      <td>608</td>\n",
       "      <td>Spain</td>\n",
       "      <td>Female</td>\n",
       "      <td>41</td>\n",
       "      <td>1</td>\n",
       "      <td>83807.86</td>\n",
       "      <td>1</td>\n",
       "      <td>0</td>\n",
       "      <td>1</td>\n",
       "      <td>112542.58</td>\n",
       "      <td>0</td>\n",
       "    </tr>\n",
       "    <tr>\n",
       "      <th>2</th>\n",
       "      <td>3</td>\n",
       "      <td>15619304</td>\n",
       "      <td>Onio</td>\n",
       "      <td>502</td>\n",
       "      <td>France</td>\n",
       "      <td>Female</td>\n",
       "      <td>42</td>\n",
       "      <td>8</td>\n",
       "      <td>159660.80</td>\n",
       "      <td>3</td>\n",
       "      <td>1</td>\n",
       "      <td>0</td>\n",
       "      <td>113931.57</td>\n",
       "      <td>1</td>\n",
       "    </tr>\n",
       "    <tr>\n",
       "      <th>3</th>\n",
       "      <td>4</td>\n",
       "      <td>15701354</td>\n",
       "      <td>Boni</td>\n",
       "      <td>699</td>\n",
       "      <td>France</td>\n",
       "      <td>Female</td>\n",
       "      <td>39</td>\n",
       "      <td>1</td>\n",
       "      <td>0.00</td>\n",
       "      <td>2</td>\n",
       "      <td>0</td>\n",
       "      <td>0</td>\n",
       "      <td>93826.63</td>\n",
       "      <td>0</td>\n",
       "    </tr>\n",
       "    <tr>\n",
       "      <th>4</th>\n",
       "      <td>5</td>\n",
       "      <td>15737888</td>\n",
       "      <td>Mitchell</td>\n",
       "      <td>850</td>\n",
       "      <td>Spain</td>\n",
       "      <td>Female</td>\n",
       "      <td>43</td>\n",
       "      <td>2</td>\n",
       "      <td>125510.82</td>\n",
       "      <td>1</td>\n",
       "      <td>1</td>\n",
       "      <td>1</td>\n",
       "      <td>79084.10</td>\n",
       "      <td>0</td>\n",
       "    </tr>\n",
       "  </tbody>\n",
       "</table>\n",
       "</div>"
      ],
      "text/plain": [
       "   RowNumber  CustomerId   Surname  CreditScore Geography  Gender  Age  \\\n",
       "0          1    15634602  Hargrave          619    France  Female   42   \n",
       "1          2    15647311      Hill          608     Spain  Female   41   \n",
       "2          3    15619304      Onio          502    France  Female   42   \n",
       "3          4    15701354      Boni          699    France  Female   39   \n",
       "4          5    15737888  Mitchell          850     Spain  Female   43   \n",
       "\n",
       "   Tenure    Balance  NumOfProducts  HasCrCard  IsActiveMember  \\\n",
       "0       2       0.00              1          1               1   \n",
       "1       1   83807.86              1          0               1   \n",
       "2       8  159660.80              3          1               0   \n",
       "3       1       0.00              2          0               0   \n",
       "4       2  125510.82              1          1               1   \n",
       "\n",
       "   EstimatedSalary  Exited  \n",
       "0        101348.88       1  \n",
       "1        112542.58       0  \n",
       "2        113931.57       1  \n",
       "3         93826.63       0  \n",
       "4         79084.10       0  "
      ]
     },
     "execution_count": 3,
     "metadata": {},
     "output_type": "execute_result"
    }
   ],
   "source": [
    "dataset.head()"
   ]
  },
  {
   "cell_type": "markdown",
   "id": "wound-masters",
   "metadata": {},
   "source": [
    "### Early preprocessing"
   ]
  },
  {
   "cell_type": "markdown",
   "id": "forbidden-collector",
   "metadata": {},
   "source": [
    "Tahap pre-processing awal ini seperti:\n",
    "- menghilangkan kolom yang tidak akan digunakan sebagai features untuk customers churn prediction\n",
    "- mengecek apakah adanya missing value yang bertujuan agar tidak mengganggu distribusi data saat melakukan eksplorasi.\n",
    "- memperbaiki tipe data yang tidak sesuai"
   ]
  },
  {
   "cell_type": "markdown",
   "id": "earned-cooper",
   "metadata": {},
   "source": [
    "#### Droping RowNumber, CustomerId, and Surname column"
   ]
  },
  {
   "cell_type": "code",
   "execution_count": 4,
   "id": "finnish-wells",
   "metadata": {},
   "outputs": [],
   "source": [
    "dataset = dataset.drop(columns=['RowNumber','CustomerId','Surname'])\n",
    "dataset2 = dataset.copy()"
   ]
  },
  {
   "cell_type": "markdown",
   "id": "yellow-pixel",
   "metadata": {},
   "source": [
    "#### Dealing with missing values"
   ]
  },
  {
   "cell_type": "code",
   "execution_count": 5,
   "id": "peripheral-writing",
   "metadata": {},
   "outputs": [
    {
     "data": {
      "text/plain": [
       "CreditScore        0\n",
       "Geography          0\n",
       "Gender             0\n",
       "Age                0\n",
       "Tenure             0\n",
       "Balance            0\n",
       "NumOfProducts      0\n",
       "HasCrCard          0\n",
       "IsActiveMember     0\n",
       "EstimatedSalary    0\n",
       "Exited             0\n",
       "dtype: int64"
      ]
     },
     "execution_count": 5,
     "metadata": {},
     "output_type": "execute_result"
    }
   ],
   "source": [
    "dataset.isnull().sum()"
   ]
  },
  {
   "cell_type": "markdown",
   "id": "intense-female",
   "metadata": {},
   "source": [
    "Seperti hasil yang ditunjukkan di atas bahwa dalam dataset tersebut tidak memiliki missing value, sehingga kita tidak perlu untuk melakukan treatment untuk kasus missing value pada dataset"
   ]
  },
  {
   "cell_type": "markdown",
   "id": "executed-apollo",
   "metadata": {},
   "source": [
    "#### Dealing with data types"
   ]
  },
  {
   "cell_type": "code",
   "execution_count": 6,
   "id": "voluntary-shelf",
   "metadata": {},
   "outputs": [
    {
     "name": "stdout",
     "output_type": "stream",
     "text": [
      "<class 'pandas.core.frame.DataFrame'>\n",
      "RangeIndex: 10000 entries, 0 to 9999\n",
      "Data columns (total 11 columns):\n",
      " #   Column           Non-Null Count  Dtype  \n",
      "---  ------           --------------  -----  \n",
      " 0   CreditScore      10000 non-null  int64  \n",
      " 1   Geography        10000 non-null  object \n",
      " 2   Gender           10000 non-null  object \n",
      " 3   Age              10000 non-null  int64  \n",
      " 4   Tenure           10000 non-null  int64  \n",
      " 5   Balance          10000 non-null  float64\n",
      " 6   NumOfProducts    10000 non-null  int64  \n",
      " 7   HasCrCard        10000 non-null  int64  \n",
      " 8   IsActiveMember   10000 non-null  int64  \n",
      " 9   EstimatedSalary  10000 non-null  float64\n",
      " 10  Exited           10000 non-null  int64  \n",
      "dtypes: float64(2), int64(7), object(2)\n",
      "memory usage: 859.5+ KB\n"
     ]
    }
   ],
   "source": [
    "dataset.info()"
   ]
  },
  {
   "cell_type": "markdown",
   "id": "requested-vintage",
   "metadata": {},
   "source": [
    "terdapat 3 jenis tipe data dalam data set, yaitu integer, float, dan object. beberapa variable yang seharusnya merupakan categorical data harus bertipe data \"object\" atau \"category\", untuk itu kita akan merubah tipe data dari variabel yang merupakan categorical variable menjadi tipe data \"object\".\n",
    "- Tenure\n",
    "- NumOfProducts\n",
    "- HasCrCard\n",
    "- isActiveMember\n",
    "- Exited"
   ]
  },
  {
   "cell_type": "code",
   "execution_count": 7,
   "id": "efficient-drain",
   "metadata": {},
   "outputs": [],
   "source": [
    "dataset = dataset.astype({\"Tenure\":object,\"NumOfProducts\":object,\"HasCrCard\":object,\"IsActiveMember\":object,\"Exited\":object})"
   ]
  },
  {
   "cell_type": "markdown",
   "id": "incomplete-webcam",
   "metadata": {},
   "source": [
    "### Data Overview"
   ]
  },
  {
   "cell_type": "code",
   "execution_count": 8,
   "id": "affected-wireless",
   "metadata": {},
   "outputs": [
    {
     "data": {
      "text/plain": [
       "(10000, 11)"
      ]
     },
     "execution_count": 8,
     "metadata": {},
     "output_type": "execute_result"
    }
   ],
   "source": [
    "dataset.shape"
   ]
  },
  {
   "cell_type": "markdown",
   "id": "sublime-seattle",
   "metadata": {},
   "source": [
    "#### a. Numerical data"
   ]
  },
  {
   "cell_type": "code",
   "execution_count": 9,
   "id": "conservative-procurement",
   "metadata": {},
   "outputs": [
    {
     "data": {
      "text/html": [
       "<div>\n",
       "<style scoped>\n",
       "    .dataframe tbody tr th:only-of-type {\n",
       "        vertical-align: middle;\n",
       "    }\n",
       "\n",
       "    .dataframe tbody tr th {\n",
       "        vertical-align: top;\n",
       "    }\n",
       "\n",
       "    .dataframe thead th {\n",
       "        text-align: right;\n",
       "    }\n",
       "</style>\n",
       "<table border=\"1\" class=\"dataframe\">\n",
       "  <thead>\n",
       "    <tr style=\"text-align: right;\">\n",
       "      <th></th>\n",
       "      <th>CreditScore</th>\n",
       "      <th>Age</th>\n",
       "      <th>Balance</th>\n",
       "      <th>EstimatedSalary</th>\n",
       "    </tr>\n",
       "  </thead>\n",
       "  <tbody>\n",
       "    <tr>\n",
       "      <th>count</th>\n",
       "      <td>10000.000000</td>\n",
       "      <td>10000.000000</td>\n",
       "      <td>10000.000000</td>\n",
       "      <td>10000.000000</td>\n",
       "    </tr>\n",
       "    <tr>\n",
       "      <th>mean</th>\n",
       "      <td>650.528800</td>\n",
       "      <td>38.921800</td>\n",
       "      <td>76485.889288</td>\n",
       "      <td>100090.239881</td>\n",
       "    </tr>\n",
       "    <tr>\n",
       "      <th>std</th>\n",
       "      <td>96.653299</td>\n",
       "      <td>10.487806</td>\n",
       "      <td>62397.405202</td>\n",
       "      <td>57510.492818</td>\n",
       "    </tr>\n",
       "    <tr>\n",
       "      <th>min</th>\n",
       "      <td>350.000000</td>\n",
       "      <td>18.000000</td>\n",
       "      <td>0.000000</td>\n",
       "      <td>11.580000</td>\n",
       "    </tr>\n",
       "    <tr>\n",
       "      <th>25%</th>\n",
       "      <td>584.000000</td>\n",
       "      <td>32.000000</td>\n",
       "      <td>0.000000</td>\n",
       "      <td>51002.110000</td>\n",
       "    </tr>\n",
       "    <tr>\n",
       "      <th>50%</th>\n",
       "      <td>652.000000</td>\n",
       "      <td>37.000000</td>\n",
       "      <td>97198.540000</td>\n",
       "      <td>100193.915000</td>\n",
       "    </tr>\n",
       "    <tr>\n",
       "      <th>75%</th>\n",
       "      <td>718.000000</td>\n",
       "      <td>44.000000</td>\n",
       "      <td>127644.240000</td>\n",
       "      <td>149388.247500</td>\n",
       "    </tr>\n",
       "    <tr>\n",
       "      <th>max</th>\n",
       "      <td>850.000000</td>\n",
       "      <td>92.000000</td>\n",
       "      <td>250898.090000</td>\n",
       "      <td>199992.480000</td>\n",
       "    </tr>\n",
       "  </tbody>\n",
       "</table>\n",
       "</div>"
      ],
      "text/plain": [
       "        CreditScore           Age        Balance  EstimatedSalary\n",
       "count  10000.000000  10000.000000   10000.000000     10000.000000\n",
       "mean     650.528800     38.921800   76485.889288    100090.239881\n",
       "std       96.653299     10.487806   62397.405202     57510.492818\n",
       "min      350.000000     18.000000       0.000000        11.580000\n",
       "25%      584.000000     32.000000       0.000000     51002.110000\n",
       "50%      652.000000     37.000000   97198.540000    100193.915000\n",
       "75%      718.000000     44.000000  127644.240000    149388.247500\n",
       "max      850.000000     92.000000  250898.090000    199992.480000"
      ]
     },
     "execution_count": 9,
     "metadata": {},
     "output_type": "execute_result"
    }
   ],
   "source": [
    "dataset.describe()"
   ]
  },
  {
   "cell_type": "markdown",
   "id": "comprehensive-bryan",
   "metadata": {},
   "source": [
    "#### b. Categorical data"
   ]
  },
  {
   "cell_type": "code",
   "execution_count": 10,
   "id": "mysterious-brazilian",
   "metadata": {},
   "outputs": [],
   "source": [
    "category = dataset.select_dtypes(include=['object'])"
   ]
  },
  {
   "cell_type": "code",
   "execution_count": 11,
   "id": "permanent-commodity",
   "metadata": {},
   "outputs": [
    {
     "data": {
      "text/html": [
       "<div>\n",
       "<style scoped>\n",
       "    .dataframe tbody tr th:only-of-type {\n",
       "        vertical-align: middle;\n",
       "    }\n",
       "\n",
       "    .dataframe tbody tr th {\n",
       "        vertical-align: top;\n",
       "    }\n",
       "\n",
       "    .dataframe thead th {\n",
       "        text-align: right;\n",
       "    }\n",
       "</style>\n",
       "<table border=\"1\" class=\"dataframe\">\n",
       "  <thead>\n",
       "    <tr style=\"text-align: right;\">\n",
       "      <th></th>\n",
       "      <th>Geography</th>\n",
       "      <th>Gender</th>\n",
       "      <th>Tenure</th>\n",
       "      <th>NumOfProducts</th>\n",
       "      <th>HasCrCard</th>\n",
       "      <th>IsActiveMember</th>\n",
       "      <th>Exited</th>\n",
       "    </tr>\n",
       "  </thead>\n",
       "  <tbody>\n",
       "    <tr>\n",
       "      <th>count</th>\n",
       "      <td>10000</td>\n",
       "      <td>10000</td>\n",
       "      <td>10000</td>\n",
       "      <td>10000</td>\n",
       "      <td>10000</td>\n",
       "      <td>10000</td>\n",
       "      <td>10000</td>\n",
       "    </tr>\n",
       "    <tr>\n",
       "      <th>unique</th>\n",
       "      <td>3</td>\n",
       "      <td>2</td>\n",
       "      <td>11</td>\n",
       "      <td>4</td>\n",
       "      <td>2</td>\n",
       "      <td>2</td>\n",
       "      <td>2</td>\n",
       "    </tr>\n",
       "    <tr>\n",
       "      <th>top</th>\n",
       "      <td>France</td>\n",
       "      <td>Male</td>\n",
       "      <td>2</td>\n",
       "      <td>1</td>\n",
       "      <td>1</td>\n",
       "      <td>1</td>\n",
       "      <td>0</td>\n",
       "    </tr>\n",
       "    <tr>\n",
       "      <th>freq</th>\n",
       "      <td>5014</td>\n",
       "      <td>5457</td>\n",
       "      <td>1048</td>\n",
       "      <td>5084</td>\n",
       "      <td>7055</td>\n",
       "      <td>5151</td>\n",
       "      <td>7963</td>\n",
       "    </tr>\n",
       "  </tbody>\n",
       "</table>\n",
       "</div>"
      ],
      "text/plain": [
       "       Geography Gender  Tenure  NumOfProducts  HasCrCard  IsActiveMember  \\\n",
       "count      10000  10000   10000          10000      10000           10000   \n",
       "unique         3      2      11              4          2               2   \n",
       "top       France   Male       2              1          1               1   \n",
       "freq        5014   5457    1048           5084       7055            5151   \n",
       "\n",
       "        Exited  \n",
       "count    10000  \n",
       "unique       2  \n",
       "top          0  \n",
       "freq      7963  "
      ]
     },
     "execution_count": 11,
     "metadata": {},
     "output_type": "execute_result"
    }
   ],
   "source": [
    "category.describe()"
   ]
  },
  {
   "cell_type": "code",
   "execution_count": 12,
   "id": "given-rider",
   "metadata": {},
   "outputs": [
    {
     "data": {
      "text/plain": [
       "array(['France', 'Spain', 'Germany'], dtype=object)"
      ]
     },
     "execution_count": 12,
     "metadata": {},
     "output_type": "execute_result"
    }
   ],
   "source": [
    "category['Geography'].unique()"
   ]
  },
  {
   "cell_type": "code",
   "execution_count": 13,
   "id": "serial-belly",
   "metadata": {},
   "outputs": [
    {
     "data": {
      "text/plain": [
       "array(['Female', 'Male'], dtype=object)"
      ]
     },
     "execution_count": 13,
     "metadata": {},
     "output_type": "execute_result"
    }
   ],
   "source": [
    "category['Gender'].unique()"
   ]
  },
  {
   "cell_type": "markdown",
   "id": "sunrise-field",
   "metadata": {},
   "source": [
    "Berikut merupakan hasil data overview awal untuk setiap kolom pada dataset:\n",
    "- dataset tersebut memiliki rekaman sebanyak 10.000 data\n",
    "- data terdiri dari 7 categorical data dan 4 numerical data\n",
    "1.\tNumerical data:\n",
    "    - CreditScore : rantang jumlah skor kredit adalah dari 350 sampai 850\n",
    "    - Age : rentang umur nasabah adalah dari 18 - 92 tahun dengan rata - rata umur nasabah 39 tahun\n",
    "    - Balance: jumlah uang yang tersedia untuk penarikan mempunyai nilai terkecil yaitu 0 dan terbesar yaitu 250898.09\n",
    "    - EstimatedSalary: rata-rata gaji tahunan nasabah yaitu 100090.239881\n",
    "2.\tCategorical data\n",
    "    - Geography: tempat tinggal suatu nasabah yaitu dari 3 negara (France, Germany, Spain)\n",
    "    - NumOfProducts: produk yang nasabah gunakan di dalam bank yang berjumlah 4 buah product\n",
    "    - Tenure: 11 kategori tahun bahwa nasabah telah berlangganan di bank\n",
    "    - isActiveMember: 1 menandakan aktif\n",
    "    - Gender: jenis kelamin nasabah\n",
    "    - Exited: apakah nasabah telah pergi (tutup akun), 1 churn dan 0 stay\n",
    "\n"
   ]
  },
  {
   "cell_type": "markdown",
   "id": "commercial-sunday",
   "metadata": {},
   "source": [
    "## 2. Exploratory Data"
   ]
  },
  {
   "cell_type": "markdown",
   "id": "sixth-acting",
   "metadata": {},
   "source": [
    "Pada tahap exploratory data ini kita akan melakukan beberapa analisis untuk mengidentifikasi karakteristik nasabah yang tetap tinggal atau pergi sebagai nasabah, analisis tersebut diantaranya yaitu Univariate analysis, Bivariate Analysis, Multivariate Analysis."
   ]
  },
  {
   "cell_type": "markdown",
   "id": "fresh-backing",
   "metadata": {},
   "source": [
    "### a. Univariate Analysis"
   ]
  },
  {
   "cell_type": "markdown",
   "id": "reliable-sheriff",
   "metadata": {},
   "source": [
    "Univariate analysis merupakan analisis yang lakukan pada satu variabel yang bertujuan untuk melihat karakteristik dari variabel tersebut. Pada Univariate ini kita akan melihat bagaimana karakteristik dari variabel target dan melihat distribusi dari variabel numerik"
   ]
  },
  {
   "cell_type": "markdown",
   "id": "lasting-dictionary",
   "metadata": {},
   "source": [
    "#### a.1. Response Variable"
   ]
  },
  {
   "cell_type": "markdown",
   "id": "available-street",
   "metadata": {},
   "source": [
    "Exited Kolom :\n",
    "- 1 untuk nasabah tutup akun\n",
    "- 0 untuk nasabah yang tetap tinggal"
   ]
  },
  {
   "cell_type": "markdown",
   "id": "specific-complaint",
   "metadata": {},
   "source": [
    "#####               Count plot"
   ]
  },
  {
   "cell_type": "code",
   "execution_count": 14,
   "id": "cubic-syndrome",
   "metadata": {},
   "outputs": [
    {
     "name": "stderr",
     "output_type": "stream",
     "text": [
      "c:\\users\\17523220\\appdata\\local\\programs\\python\\python38\\lib\\site-packages\\seaborn\\_decorators.py:36: FutureWarning: Pass the following variable as a keyword arg: x. From version 0.12, the only valid positional argument will be `data`, and passing other arguments without an explicit keyword will result in an error or misinterpretation.\n",
      "  warnings.warn(\n"
     ]
    },
    {
     "data": {
      "image/png": "[encoded data removed]",
      "text/plain": [
       "<Figure size 432x288 with 1 Axes>"
      ]
     },
     "metadata": {
      "needs_background": "light"
     },
     "output_type": "display_data"
    }
   ],
   "source": [
    "sns.countplot(dataset['Exited'])\n",
    "plt.show()"
   ]
  },
  {
   "cell_type": "markdown",
   "id": "asian-combat",
   "metadata": {},
   "source": [
    "#####  Pie chart"
   ]
  },
  {
   "cell_type": "code",
   "execution_count": 15,
   "id": "different-princess",
   "metadata": {},
   "outputs": [
    {
     "data": {
      "image/png": "[encoded data removed]",
      "text/plain": [
       "<Figure size 360x360 with 1 Axes>"
      ]
     },
     "metadata": {},
     "output_type": "display_data"
    }
   ],
   "source": [
    "plt.figure(figsize=(5,5))\n",
    "plt.title(\"PieChart OF Customers Churn\")\n",
    "plt.pie(dataset['Exited'].value_counts(),\n",
    "       labels = ['Staying with the bank','Exited customers'],\n",
    "       autopct ='%.2f%%',\n",
    "       colors = ['#00EAD3','#FFF5B7'],\n",
    "       explode=(0.0,0.05),\n",
    "       shadow = True)\n",
    "plt.show()"
   ]
  },
  {
   "cell_type": "code",
   "execution_count": 16,
   "id": "built-stations",
   "metadata": {
    "scrolled": true
   },
   "outputs": [
    {
     "name": "stdout",
     "output_type": "stream",
     "text": [
      "Jumlah nasabah yang tetap berlangganan :  7963\n",
      "Jumlah nasabah yang tutup akun :  2037\n"
     ]
    }
   ],
   "source": [
    "print(\"Jumlah nasabah yang tetap berlangganan : \",(dataset.Exited==0).sum())\n",
    "print(\"Jumlah nasabah yang tutup akun : \",(dataset.Exited==1).sum())"
   ]
  },
  {
   "cell_type": "markdown",
   "id": "registered-civilian",
   "metadata": {},
   "source": [
    "Kita dapat melihat distribusi dari variabel target tidak seimbang yang mana jumlah nasabah yang tutup akun lebih sedikit (20.37%) dari nasabah yang tetap berada di bank (79.63%)"
   ]
  },
  {
   "cell_type": "markdown",
   "id": "alternative-project",
   "metadata": {},
   "source": [
    "#### a.2. Distribution of numerical data"
   ]
  },
  {
   "cell_type": "code",
   "execution_count": 17,
   "id": "alpha-johnston",
   "metadata": {},
   "outputs": [
    {
     "data": {
      "image/png": "[encoded data removed]",
      "text/plain": [
       "<Figure size 720x720 with 4 Axes>"
      ]
     },
     "metadata": {
      "needs_background": "light"
     },
     "output_type": "display_data"
    }
   ],
   "source": [
    "num_df = dataset[['CreditScore','Age','Balance','EstimatedSalary']]\n",
    "\n",
    "fig, ax = plt.subplots(nrows=2,ncols=2,figsize=(10,10))\n",
    "i=0\n",
    "for r in range(0,2):\n",
    "    for c in range(0,2):\n",
    "        ax[r][c].set_title(num_df.columns[i])\n",
    "        ax[r][c].hist(num_df.iloc[:,i],color='#01937C')\n",
    "        ax[r][c].text(0.98,0.96,'Skewnees = '+str(round(num_df.iloc[:,i].skew(),2)),color='white', ha='right', va='top',transform=ax[r][c].transAxes,\n",
    "                     bbox={'facecolor': '#081c15', 'alpha': 0.9, 'pad': 3, 'edgecolor':'None'})\n",
    "        ax[r][c].text(0.98,0.89,'Kurtosis = '+str(round(num_df.iloc[:,i].kurt(),2)),color='white', ha='right', va='top',transform=ax[r][c].transAxes,\n",
    "                     bbox={'facecolor': '#081c15', 'alpha': 0.9, 'pad': 3, 'edgecolor':'None'})\n",
    "        i+=1"
   ]
  },
  {
   "cell_type": "markdown",
   "id": "intensive-england",
   "metadata": {},
   "source": [
    "Berikut merupakan ringkasan analisis distribusi variabel numerik berdasarkan hasil dari plotting histogram diatas:\n",
    "- distribusi dari variabel credit score menunjukan adanya sedikit skewness negatif yang mengindikasikan adanya outlier. Nilai tengah data tidak jauh dari rata ratanya yang berarti data terpusat pada rata rata.\n",
    "- distribusi pada variabel Age terdapat skewness positif yang mengindikasikan adanya outlier pada data tersebut. dan data terpusat dibawah rata rata\n",
    "- distribusi dari variabel balance hampir mendekati normal namun terdapat nasabah yang memiliki nilai balance 0 dengan jumlah yang banyak\n",
    "- distribusi dari variabel EstimatedSalary terbilang merata, yang mana nasabah dengan penghasilan 0 - 200000 hampir berjumlah sama."
   ]
  },
  {
   "cell_type": "markdown",
   "id": "nonprofit-miniature",
   "metadata": {},
   "source": [
    "### b. Bivariate Analysis"
   ]
  },
  {
   "cell_type": "markdown",
   "id": "satellite-michigan",
   "metadata": {},
   "source": [
    "Bivariate analysis merupakan analisis yang dilakukan untuk mengetahui hubungan antara 2 variabel. pada tahap bivariate analisis ini kita akan melihat hubungan antara variabel kategori dengan variabel targetnya dan variabel numeric dengan variabel targetnya."
   ]
  },
  {
   "cell_type": "markdown",
   "id": "compatible-links",
   "metadata": {},
   "source": [
    "#### b.1 Categorical variabel distribution"
   ]
  },
  {
   "cell_type": "code",
   "execution_count": 18,
   "id": "mysterious-sewing",
   "metadata": {},
   "outputs": [
    {
     "data": {
      "image/png": "[encoded data removed]",
      "text/plain": [
       "<Figure size 1440x720 with 6 Axes>"
      ]
     },
     "metadata": {
      "needs_background": "light"
     },
     "output_type": "display_data"
    }
   ],
   "source": [
    "fig, ax = plt.subplots(nrows = 2, ncols =3 ,figsize=(20,10))\n",
    "\n",
    "#Gender\n",
    "gender = dataset[['Gender','Exited']].groupby(['Gender','Exited']).size().reset_index(name='Count')\n",
    "ax[0][0].set_title(\"Gender\")\n",
    "ax[0][0].bar(gender[gender['Exited']==0].Gender,gender[gender['Exited']==0].Count,color='#005f73',label=\"Not Churn\")\n",
    "ax[0][0].bar(gender[gender['Exited']==1].Gender,gender[gender['Exited']==1].Count,color='#bc6c25',label=\"Churn\")\n",
    "\n",
    "#Geography\n",
    "geography = dataset[['Geography','Exited']].groupby(['Geography','Exited']).size().reset_index(name='Count')\n",
    "ax[0][1].set_title(\"Geography\")\n",
    "ax[0][1].bar(geography[geography['Exited']==0].Geography,geography[geography['Exited']==0].Count,color='#005f73')\n",
    "ax[0][1].bar(geography[geography['Exited']==1].Geography,geography[geography['Exited']==1].Count,color='#bc6c25')\n",
    "\n",
    "#HasCrCard\n",
    "hascrcard = dataset[['HasCrCard','Exited']].groupby(['HasCrCard','Exited']).size().reset_index(name='Count')\n",
    "ax[0][2].set_title(\"HasCrCard\")\n",
    "ax[0][2].bar(hascrcard[hascrcard['Exited']==0].HasCrCard,hascrcard[hascrcard['Exited']==0].Count,color='#005f73')\n",
    "ax[0][2].bar(hascrcard[hascrcard['Exited']==1].HasCrCard,hascrcard[hascrcard['Exited']==1].Count,color='#bc6c25')\n",
    "\n",
    "#IsActiveMember\n",
    "isActiveMember = dataset[['IsActiveMember','Exited']].groupby(['IsActiveMember','Exited']).size().reset_index(name='Count')\n",
    "ax[1][0].set_title(\"IsActiveMember\")\n",
    "ax[1][0].bar(isActiveMember [isActiveMember ['Exited']==0].IsActiveMember,isActiveMember [isActiveMember ['Exited']==0].Count,color='#005f73')\n",
    "ax[1][0].bar(isActiveMember [isActiveMember ['Exited']==1].IsActiveMember,isActiveMember [isActiveMember ['Exited']==1].Count,color='#bc6c25')\n",
    "\n",
    "#NumOfProducts\n",
    "numOfProducts = dataset[['NumOfProducts','Exited']].groupby(['NumOfProducts','Exited']).size().reset_index(name='Count')\n",
    "ax[1][1].set_title(\"NumOfProducts\")\n",
    "ax[1][1].bar(numOfProducts[numOfProducts['Exited']==0].NumOfProducts,numOfProducts[numOfProducts['Exited']==0].Count,color='#005f73')\n",
    "ax[1][1].bar(numOfProducts[numOfProducts['Exited']==1].NumOfProducts,numOfProducts[numOfProducts['Exited']==1].Count,color='#bc6c25')\n",
    "\n",
    "#Tenure\n",
    "tenure = dataset[['Tenure','Exited']].groupby(['Tenure','Exited']).size().reset_index(name='Count')\n",
    "ax[1][2].set_title(\"Tenure\")\n",
    "ax[1][2].bar(tenure[tenure['Exited']==0].Tenure,tenure[tenure['Exited']==0].Count,color='#005f73')\n",
    "ax[1][2].bar(tenure[tenure['Exited']==1].Tenure,tenure[tenure['Exited']==1].Count,color='#bc6c25')\n",
    "\n",
    "fig.legend(loc='upper center')\n",
    "plt.show()"
   ]
  },
  {
   "cell_type": "markdown",
   "id": "mighty-serial",
   "metadata": {},
   "source": [
    "Seperti yang kita ketahui pada univariate analysis bahwa variabel target tidak seimbang yang mana jumlah nasabah yang tetap lebih banyak dibandingkan jumlah nasabah yang pergi. Berikut merupakan ringkasan dari bivariate analysis:"
   ]
  },
  {
   "cell_type": "markdown",
   "id": "voluntary-deadline",
   "metadata": {},
   "source": [
    "- Pada variabel Gender jumlah laki-laki lebih banyak dibandingkan perempuan, dengan nasabah yang meninggalkan bank lebih banyak perempuan dibanding laki-laki. Hal ini mengindikasikan bahwa variable gender mempengaruhi keputusan dari variabel target.\n",
    "- Pada Variabel Geography negara France merupakan negara dengan jumlah nasabah terbanyak, dan negara Germany merupakan negara dengan nasabah yang paling sedikit. tetapi berdasarkan nasabah yang keluar dari bank Germany memiliki jumlah sama dengan France. Variabel Geography juga menandakan dapat mempengaruhi variabel target\n",
    "- Pada variabel HasCrCard nasabah yang tetap bersama bank memiliki kartu kredit lebih banyak dibandingkan nasabah yang tidak memiliki kartu kredit, begitu juga pada nasabah yang meninggalkan bank. yang mana variable HasCrCard mengindikasikan tidak berpengaruh terhadap variabel target\n",
    "- Pada variabel isActiveMember, jumlah nasabah yang merupakan anggota tidak aktif cenderung akan meninggalkan bank\n",
    "- Pada variabel NumOfPrudct, nasabah yang cenderung akan meninggalkan bank merupakan nasabah dengan product nomer 1,3, dan 4.\n",
    "- Pada variable Tenure, tidak ada kecenderungan kepemilikan yang akan meninggalkan bank\n"
   ]
  },
  {
   "cell_type": "markdown",
   "id": "assigned-priority",
   "metadata": {},
   "source": [
    "#### b.2. Numerical variable exploration"
   ]
  },
  {
   "cell_type": "markdown",
   "id": "pointed-stanford",
   "metadata": {},
   "source": [
    "#### Age"
   ]
  },
  {
   "cell_type": "code",
   "execution_count": 22,
   "id": "extraordinary-circulation",
   "metadata": {},
   "outputs": [],
   "source": [
    "age = dataset[['Age','Exited']]\n",
    "a_1 = age[age['Exited']==1]\n",
    "a_0 = age[age['Exited']==0]"
   ]
  },
  {
   "cell_type": "code",
   "execution_count": 23,
   "id": "affiliated-context",
   "metadata": {},
   "outputs": [
    {
     "data": {
      "image/png": "[encoded data removed]",
      "text/plain": [
       "<Figure size 1080x360 with 1 Axes>"
      ]
     },
     "metadata": {
      "needs_background": "light"
     },
     "output_type": "display_data"
    }
   ],
   "source": [
    "fig, ax = plt.subplots(figsize=(15,5))\n",
    "ax.hist(a_0['Age'],bins=30,label=\"Not Churn\",color='#01937C')\n",
    "ax.hist(a_1['Age'],bins=30,label=\"Churn\",color='#B6C867')\n",
    "\n",
    "plt.legend()\n",
    "plt.show()"
   ]
  },
  {
   "cell_type": "markdown",
   "id": "incoming-service",
   "metadata": {},
   "source": [
    "#### Credit Score"
   ]
  },
  {
   "cell_type": "code",
   "execution_count": 24,
   "id": "happy-ticket",
   "metadata": {},
   "outputs": [],
   "source": [
    "credit_score = dataset[['CreditScore','Exited']]\n",
    "cs_0 = credit_score[credit_score['Exited']==0]\n",
    "cs_1 = credit_score[credit_score['Exited']==1]"
   ]
  },
  {
   "cell_type": "code",
   "execution_count": 25,
   "id": "straight-pakistan",
   "metadata": {},
   "outputs": [
    {
     "data": {
      "image/png": "[encoded data removed]",
      "text/plain": [
       "<Figure size 1080x360 with 1 Axes>"
      ]
     },
     "metadata": {
      "needs_background": "light"
     },
     "output_type": "display_data"
    }
   ],
   "source": [
    "fig, ax = plt.subplots(figsize=(15,5))\n",
    "ax.hist(cs_0['CreditScore'],bins=30,label=\"Not Churn\",color='#01937C')\n",
    "ax.hist(cs_1['CreditScore'],bins=30,label=\"Churn\",color='#B6C867')\n",
    "\n",
    "plt.legend()\n",
    "plt.show()"
   ]
  },
  {
   "cell_type": "markdown",
   "id": "working-occasion",
   "metadata": {},
   "source": [
    "#### Balance"
   ]
  },
  {
   "cell_type": "code",
   "execution_count": 26,
   "id": "statutory-hughes",
   "metadata": {},
   "outputs": [],
   "source": [
    "balance = dataset[['Balance','Exited']]\n",
    "b_0 = balance[balance['Exited']==0]\n",
    "b_1 = balance[balance['Exited']==1]"
   ]
  },
  {
   "cell_type": "code",
   "execution_count": 27,
   "id": "million-shareware",
   "metadata": {},
   "outputs": [
    {
     "data": {
      "image/png": "[encoded data removed]",
      "text/plain": [
       "<Figure size 720x360 with 1 Axes>"
      ]
     },
     "metadata": {
      "needs_background": "light"
     },
     "output_type": "display_data"
    }
   ],
   "source": [
    "fig, ax = plt.subplots(figsize=(10,5))\n",
    "ax.hist(b_0['Balance'],bins=30,color='#01937C',label=\"Not Churn\")\n",
    "ax.hist(b_1['Balance'],bins=30,color='#B6C867',label=\"churn\")\n",
    "\n",
    "ax.legend()\n",
    "plt.show()"
   ]
  },
  {
   "cell_type": "markdown",
   "id": "willing-printing",
   "metadata": {},
   "source": [
    "#### Estimated salary"
   ]
  },
  {
   "cell_type": "code",
   "execution_count": 28,
   "id": "interpreted-tomorrow",
   "metadata": {},
   "outputs": [],
   "source": [
    "estimated_salary = dataset[['EstimatedSalary','Exited']]\n",
    "es_0 = estimated_salary[estimated_salary['Exited']==0]\n",
    "es_1 = estimated_salary[estimated_salary['Exited']==1]"
   ]
  },
  {
   "cell_type": "code",
   "execution_count": 29,
   "id": "tropical-joint",
   "metadata": {},
   "outputs": [
    {
     "data": {
      "image/png": "[encoded data removed]",
      "text/plain": [
       "<Figure size 720x360 with 1 Axes>"
      ]
     },
     "metadata": {
      "needs_background": "light"
     },
     "output_type": "display_data"
    }
   ],
   "source": [
    "fig,ax = plt.subplots(figsize=(10,5))\n",
    "ax.hist(es_0['EstimatedSalary'],bins=30,label=\"Not Churn\",color='#01937C')\n",
    "ax.hist(es_1['EstimatedSalary'],bins=30,label=\"Churn\",color='#B6C867')\n",
    "\n",
    "plt.legend()\n",
    "plt.show()"
   ]
  },
  {
   "cell_type": "markdown",
   "id": "abandoned-cheese",
   "metadata": {},
   "source": [
    "Berdasarkan hasil dari bivariate analysis diatas menujukan bahwa\n",
    "- pada variabel Age, distribusi dari churn dan not churn memiliki pemusatan data yang berbeda dimana perubahan nilai pada variabel age akan berpengaruh terdapat variabel target atau terdapat kecenderungan bahwa nasabah akan meninggalkan bank berdasarkan variabel Age\n",
    "- sedangkan pada variabel CreditScore, Balance, dan EstimatedSalary, distribusi dari churn dan not churn memiliki pemusatan data yang relative sama, dimana hal ini mengindikasikan bahwa perubahan nilai pada variabel tersebut tidak terlalu berpengaruh terhadap variabel target atau tidak ada kecenderungan bahwa nasabah akan meninggalkan bank\n"
   ]
  },
  {
   "cell_type": "markdown",
   "id": "north-tuner",
   "metadata": {},
   "source": [
    "### c. Multivariate Analysis"
   ]
  },
  {
   "cell_type": "markdown",
   "id": "indonesian-broadcast",
   "metadata": {},
   "source": [
    "Multivariate analysis merupakan analisis yang bertujuan untuk mengetahui hubungan lebih dari 2 variabel. Pada tahap analisis ini kita akan melihat nilai korelasi dari setiap dependent variable dengan independent variable"
   ]
  },
  {
   "cell_type": "markdown",
   "id": "advance-memorabilia",
   "metadata": {},
   "source": [
    "#### Correlation of numerical variable"
   ]
  },
  {
   "cell_type": "code",
   "execution_count": 30,
   "id": "major-treasury",
   "metadata": {},
   "outputs": [],
   "source": [
    "data_cor =  pd.get_dummies(dataset2,drop_first=True)"
   ]
  },
  {
   "cell_type": "code",
   "execution_count": 31,
   "id": "coupled-garbage",
   "metadata": {},
   "outputs": [],
   "source": [
    "corr = data_cor.corr()"
   ]
  },
  {
   "cell_type": "markdown",
   "id": "alive-smooth",
   "metadata": {},
   "source": [
    "#### Correlation with bar chart"
   ]
  },
  {
   "cell_type": "code",
   "execution_count": 32,
   "id": "charitable-conversion",
   "metadata": {},
   "outputs": [
    {
     "data": {
      "image/png": "[encoded data removed]",
      "text/plain": [
       "<Figure size 1440x720 with 1 Axes>"
      ]
     },
     "metadata": {
      "needs_background": "light"
     },
     "output_type": "display_data"
    }
   ],
   "source": [
    "corr0 = corr.drop(index=['Exited'])[['Exited']]\n",
    "fig,ax = plt.subplots(figsize=(20,10))\n",
    "ax.bar(corr0.index[:],corr0.iloc[:,0].values,color='#01937C')\n",
    "\n",
    "\n",
    "plt.title(\"Correlated with Exited\")\n",
    "plt.xlabel(\"Variable\")\n",
    "plt.ylabel(\"Correlation\")\n",
    "plt.xticks(rotation=45)\n",
    "plt.grid(True)\n",
    "plt.show()"
   ]
  },
  {
   "cell_type": "markdown",
   "id": "medieval-physics",
   "metadata": {},
   "source": [
    "#### correlation with heatmap"
   ]
  },
  {
   "cell_type": "code",
   "execution_count": 33,
   "id": "aggregate-russian",
   "metadata": {},
   "outputs": [
    {
     "data": {
      "text/plain": [
       "<AxesSubplot:>"
      ]
     },
     "execution_count": 33,
     "metadata": {},
     "output_type": "execute_result"
    },
    {
     "data": {
      "image/png": "[encoded data removed]",
      "text/plain": [
       "<Figure size 1440x1080 with 2 Axes>"
      ]
     },
     "metadata": {
      "needs_background": "light"
     },
     "output_type": "display_data"
    }
   ],
   "source": [
    "plt.figure(figsize=(20,15))\n",
    "sns.heatmap(corr, annot=True)"
   ]
  },
  {
   "cell_type": "markdown",
   "id": "cordless-designer",
   "metadata": {},
   "source": [
    "Berdasarkan hasil dari plotting diatas, hubungan antara dependent variable dengan variabel targetnya memiliki nilai korelasi yang relatif kecil, yaitu diantara -0.15 sampai 0.3. variabel yang memiliki nilai korelasi lebih tinggi dibanding variabel lain dan kemungkinan akan berpengaruh terhadap hasil dari variabel target yaitu Age, Balance, NumOfProduct, IsActiveMember, dan Geography."
   ]
  },
  {
   "cell_type": "markdown",
   "id": "reasonable-patrick",
   "metadata": {},
   "source": [
    "## 3. Data Preprocessing"
   ]
  },
  {
   "cell_type": "markdown",
   "id": "explicit-travel",
   "metadata": {},
   "source": [
    "Sebelum membangun model untuk klasifikasi, akan dilakukan tahap preprocessing terlebih dahulu untuk setiap feature yang ada. tahap data processing tersebut diantaranya:\n",
    "- Handling outlier\n",
    "- Features scaling\n",
    "- Features encoding\n",
    "- Splitting dataset to x and y\n",
    "- Feature selection\n",
    "- Splitting dataset to train and test"
   ]
  },
  {
   "cell_type": "markdown",
   "id": "executive-description",
   "metadata": {},
   "source": [
    "### a. Handling Outlier"
   ]
  },
  {
   "cell_type": "code",
   "execution_count": 34,
   "id": "concrete-aquarium",
   "metadata": {},
   "outputs": [],
   "source": [
    "column = ['CreditScore','Age','Balance','EstimatedSalary']\n",
    "numeric_data = dataset[column]"
   ]
  },
  {
   "cell_type": "code",
   "execution_count": 35,
   "id": "clinical-tribute",
   "metadata": {},
   "outputs": [
    {
     "data": {
      "image/png": "[encoded data removed]",
      "text/plain": [
       "<Figure size 1440x1080 with 4 Axes>"
      ]
     },
     "metadata": {
      "needs_background": "light"
     },
     "output_type": "display_data"
    }
   ],
   "source": [
    "plt.subplots(figsize=(20,15))\n",
    "for i in range(0,len(numeric_data.columns)):\n",
    "    plt.subplot(2,2,i+1)\n",
    "    plt.boxplot(numeric_data.iloc[:,i])\n",
    "    plt.xlabel(numeric_data.columns[i])\n",
    "plt.show()"
   ]
  },
  {
   "cell_type": "markdown",
   "id": "polyphonic-samba",
   "metadata": {},
   "source": [
    "#### Discover outlier with interquartile"
   ]
  },
  {
   "cell_type": "code",
   "execution_count": 36,
   "id": "realistic-equation",
   "metadata": {},
   "outputs": [],
   "source": [
    "def interquartile(x):\n",
    "    q1 = x.quantile(0.25)\n",
    "    q3 = x.quantile(0.75)\n",
    "    iqr = q3-q1\n",
    "    lower_bound= q1 - (iqr * 1.5)\n",
    "    upper_bound= q3 + (iqr * 1.5)\n",
    "    return lower_bound,upper_bound\n",
    "\n",
    "def drop_outlier(x,column):\n",
    "    lower_bound,upper_bound = interquartile(x[column])\n",
    "    removed = x[~((x[column]<lower_bound) | (x[column]>upper_bound)).any(axis=1)]\n",
    "    return removed"
   ]
  },
  {
   "cell_type": "code",
   "execution_count": 37,
   "id": "revolutionary-section",
   "metadata": {},
   "outputs": [],
   "source": [
    "drop_column = ['CreditScore','Age']\n",
    "outlier_droped= drop_outlier(dataset,drop_column).reset_index().drop(columns=['index'],axis=1)"
   ]
  },
  {
   "cell_type": "code",
   "execution_count": 38,
   "id": "developmental-utilization",
   "metadata": {},
   "outputs": [
    {
     "data": {
      "image/png": "[encoded data removed]",
      "text/plain": [
       "<Figure size 1440x1080 with 4 Axes>"
      ]
     },
     "metadata": {
      "needs_background": "light"
     },
     "output_type": "display_data"
    }
   ],
   "source": [
    "column = ['CreditScore','Age','Balance','EstimatedSalary']\n",
    "numeric_data = outlier_droped[column]\n",
    "plt.subplots(figsize=(20,15))\n",
    "for i in range(0,len(numeric_data.columns)):\n",
    "    plt.subplot(2,2,i+1)\n",
    "    plt.boxplot(numeric_data.iloc[:,i])\n",
    "    plt.xlabel(numeric_data.columns[i])\n",
    "plt.show()"
   ]
  },
  {
   "cell_type": "markdown",
   "id": "empirical-world",
   "metadata": {},
   "source": [
    "Berdasarkan hasil box plotting, features yang memiliki nilai outlier pada dataset yaitu Age dan Credit Score. Untuk menemukan pencilan data tersebut kita menggunakan teknik interquartile range dan nilai pencilan tersebut akan dihapus dari dataset. Setelah nilai pencilan tersebut dihapuskan dari dataset, pada feature Age masih terdapat nilai pencilan, namun jumlahnya tidak banyak."
   ]
  },
  {
   "cell_type": "markdown",
   "id": "defined-defensive",
   "metadata": {},
   "source": [
    "### b. Features Scaling"
   ]
  },
  {
   "cell_type": "markdown",
   "id": "proof-president",
   "metadata": {},
   "source": [
    "Untuk membuat performa terbaik pada model klasifikasi, kita perlu melakukan features scaling. Feature scaling merupakan sebuah teknik untuk membuat semua feature pada dataset mempunyai rentang nilai yang sama. salah satu teknik feature scaling yang populer adalah standardization, atau membuat range semua feature sama yaitu dengan nilai mean 0 dan standard deviasi 1"
   ]
  },
  {
   "cell_type": "code",
   "execution_count": 192,
   "id": "square-cloud",
   "metadata": {},
   "outputs": [],
   "source": [
    "column_numeric = ['CreditScore','Age','Balance','EstimatedSalary']\n",
    "sc = StandardScaler().fit(outlier_droped[column_numeric])\n",
    "std = pd.DataFrame(sc.transform(outlier_droped[column_numeric]),columns=column_numeric)"
   ]
  },
  {
   "cell_type": "markdown",
   "id": "coastal-rapid",
   "metadata": {},
   "source": [
    "### c. Features Encoding"
   ]
  },
  {
   "cell_type": "markdown",
   "id": "surprised-signature",
   "metadata": {},
   "source": [
    "Sedangkan untuk categorical variable, kita perlu untuk melakukan encoding untuk setiap feature yang bertipe kategori. Dikarenakan pada setiap feature kategori tidak mempunyai tingkatan level maka teknik yang akan digunakan yaitu one hot encoding atau merubah nilai kategori menjadi 0 atau 1."
   ]
  },
  {
   "cell_type": "code",
   "execution_count": 193,
   "id": "certified-coalition",
   "metadata": {},
   "outputs": [],
   "source": [
    "column_category = ['Geography','Gender','Tenure','NumOfProducts','HasCrCard','IsActiveMember']\n",
    "dataset_std = outlier_droped[column_category]"
   ]
  },
  {
   "cell_type": "code",
   "execution_count": 194,
   "id": "threatened-remains",
   "metadata": {},
   "outputs": [],
   "source": [
    "encoder = OneHotEncoder(drop='first',sparse=False,handle_unknown='error').fit(dataset_std)\n",
    "encoded = encoder.transform(dataset_std)"
   ]
  },
  {
   "cell_type": "code",
   "execution_count": 195,
   "id": "least-river",
   "metadata": {},
   "outputs": [],
   "source": [
    "df_encoded = pd.DataFrame(encoded,columns=encoder.get_feature_names(column_category))"
   ]
  },
  {
   "cell_type": "markdown",
   "id": "invisible-arrow",
   "metadata": {},
   "source": [
    "### d. Split Dataset to X and Y"
   ]
  },
  {
   "cell_type": "code",
   "execution_count": 196,
   "id": "responsible-match",
   "metadata": {},
   "outputs": [],
   "source": [
    "dataset_fe = pd.concat([std,df_encoded],axis=1)"
   ]
  },
  {
   "cell_type": "code",
   "execution_count": 199,
   "id": "assured-chancellor",
   "metadata": {},
   "outputs": [],
   "source": [
    "x = dataset_fe.iloc[:,0:-1]\n",
    "y = outlier_droped.iloc[:,-1]"
   ]
  },
  {
   "cell_type": "code",
   "execution_count": 200,
   "id": "spread-president",
   "metadata": {},
   "outputs": [
    {
     "data": {
      "text/plain": [
       "0       1\n",
       "1       0\n",
       "2       1\n",
       "3       0\n",
       "4       0\n",
       "       ..\n",
       "9621    0\n",
       "9622    0\n",
       "9623    1\n",
       "9624    1\n",
       "9625    0\n",
       "Name: Exited, Length: 9626, dtype: object"
      ]
     },
     "execution_count": 200,
     "metadata": {},
     "output_type": "execute_result"
    }
   ],
   "source": [
    "y"
   ]
  },
  {
   "cell_type": "markdown",
   "id": "remarkable-creek",
   "metadata": {},
   "source": [
    "### e. Features Selection"
   ]
  },
  {
   "cell_type": "markdown",
   "id": "matched-priest",
   "metadata": {},
   "source": [
    "Untuk menentukan bahwa nasabah tetap tinggal atau pergi yaitu dengan menggunakan feature sebagai dependent variable, namun tidak semua feature memiliki pengaruh yang sama terhadap variabel target. Hal ini dapat mengakibatkan turunnya performa pada model klasifikasi, untuk itu kita perlu memilih beberapa feature yang dianggap berpengaruh terhadap keputusan target. Salah satu teknik yang digunakan dalam pemilihan feature ini yaitu SelectKBest atau memilih k jumlah feature terbaik, serta menggunakan statistical test untuk menguji setiap feature. chi squared digunakan untuk menguji categorical varible dan f_classif atau ANOVA untuk numerical variable"
   ]
  },
  {
   "cell_type": "markdown",
   "id": "equipped-rider",
   "metadata": {},
   "source": [
    "#### 1. f_classif (ANOVA) for numerical variable"
   ]
  },
  {
   "cell_type": "code",
   "execution_count": 58,
   "id": "dated-gender",
   "metadata": {},
   "outputs": [],
   "source": [
    "x_num =  x[column_numeric]"
   ]
  },
  {
   "cell_type": "code",
   "execution_count": 59,
   "id": "handed-bloom",
   "metadata": {},
   "outputs": [],
   "source": [
    "selectorK = SelectKBest(score_func=f_classif,k=2)\n",
    "x_k = selectorK.fit(x_num,y)\n",
    "\n",
    "f_score = selectorK.scores_\n",
    "p_value = selectorK.pvalues_"
   ]
  },
  {
   "cell_type": "code",
   "execution_count": 60,
   "id": "sealed-tissue",
   "metadata": {},
   "outputs": [
    {
     "name": "stdout",
     "output_type": "stream",
     "text": [
      "\n",
      "\n",
      "  Feature                 F-Score     P-Values\n",
      "  -------                 -------     --------\n",
      "  CreditScore                 2.59     0.107356\n",
      "  Age                      1419.26     0.000000\n",
      "  Balance                   133.37     0.000000\n",
      "  EstimatedSalary             0.80     0.370800\n",
      "kolom yang akan dihilangkan =  Index(['CreditScore', 'EstimatedSalary'], dtype='object')\n"
     ]
    }
   ],
   "source": [
    "columns = list(x_num.columns)\n",
    "print(\"\")\n",
    "print(\"\")\n",
    "print(\"  Feature        \",\"        F-Score    \",\"P-Values\")\n",
    "print(\"  -------        \", \"        -------    \",\"--------\")\n",
    "\n",
    "for i in range(0,len(columns)):\n",
    "    f1 = \"%4.2f\" % f_score[i]\n",
    "    p1 = \"%2.6f\" % p_value[i]\n",
    "    print(\" \", columns[i].ljust(22), f1.rjust(9), p1.rjust(12))\n",
    "\n",
    "cols = selectorK.get_support(indices=True)\n",
    "num_selectedCols = x_num.columns[cols].to_list()\n",
    "num_non_selectedCols = x_num.drop(columns=num_selectedCols).columns\n",
    "print(\"kolom yang akan dihilangkan = \",num_non_selectedCols)"
   ]
  },
  {
   "cell_type": "markdown",
   "id": "comparative-style",
   "metadata": {},
   "source": [
    "Berdasarkan hasil dari feature important(F-Score) menggunakan scoring f_classif atau ANOVA, maka features pada numerical variabel yang akan digunakan yaitu Age dan Balance"
   ]
  },
  {
   "cell_type": "markdown",
   "id": "equivalent-execution",
   "metadata": {},
   "source": [
    "#### 2. chi squared for categorical variable"
   ]
  },
  {
   "cell_type": "code",
   "execution_count": 61,
   "id": "future-volleyball",
   "metadata": {},
   "outputs": [],
   "source": [
    "x_cat = df_encoded.drop(columns=['Exited_1'])"
   ]
  },
  {
   "cell_type": "code",
   "execution_count": 62,
   "id": "floppy-packing",
   "metadata": {},
   "outputs": [],
   "source": [
    "selectorK = SelectKBest(score_func=chi2,k=7)\n",
    "x_k = selectorK.fit(x_cat,y)\n",
    "\n",
    "f_score = selectorK.scores_\n",
    "p_value = selectorK.pvalues_"
   ]
  },
  {
   "cell_type": "code",
   "execution_count": 63,
   "id": "signal-reminder",
   "metadata": {},
   "outputs": [
    {
     "name": "stdout",
     "output_type": "stream",
     "text": [
      "\n",
      "\n",
      "  Feature                 F-Score     P-Values\n",
      "  -------                 -------     --------\n",
      "  Geography_Germany         216.33     0.000000\n",
      "  Geography_Spain            21.41     0.000004\n",
      "  Gender_Male                49.79     0.000000\n",
      "  Tenure_1                    2.10     0.146900\n",
      "  Tenure_2                    0.58     0.447765\n",
      "  Tenure_3                    0.19     0.666332\n",
      "  Tenure_4                    0.01     0.907968\n",
      "  Tenure_5                    0.07     0.798596\n",
      "  Tenure_6                    0.02     0.890009\n",
      "  Tenure_7                    6.06     0.013816\n",
      "  Tenure_8                    0.87     0.349728\n",
      "  Tenure_9                    1.27     0.259715\n",
      "  Tenure_10                   0.04     0.832909\n",
      "  NumOfProducts_2           452.03     0.000000\n",
      "  NumOfProducts_3           617.33     0.000000\n",
      "  NumOfProducts_4           228.46     0.000000\n",
      "  HasCrCard_1                 0.20     0.650925\n",
      "  IsActiveMember_1           98.31     0.000000\n",
      "kolom yang akan dihilangkan =  Index(['Tenure_1', 'Tenure_2', 'Tenure_3', 'Tenure_4', 'Tenure_5', 'Tenure_6',\n",
      "       'Tenure_7', 'Tenure_8', 'Tenure_9', 'Tenure_10', 'HasCrCard_1'],\n",
      "      dtype='object')\n"
     ]
    }
   ],
   "source": [
    "columns = list(x_cat.columns)\n",
    "print(\"\")\n",
    "print(\"\")\n",
    "print(\"  Feature        \",\"        F-Score    \",\"P-Values\")\n",
    "print(\"  -------        \", \"        -------    \",\"--------\")\n",
    "\n",
    "for i in range(0,len(columns)):\n",
    "    f1 = \"%4.2f\" % f_score[i]\n",
    "    p1 = \"%2.6f\" % p_value[i]\n",
    "    print(\" \", columns[i].ljust(22), f1.rjust(9), p1.rjust(12))\n",
    "\n",
    "cols = selectorK.get_support(indices=True)\n",
    "cat_selectedCols = x_cat.columns[cols].to_list()\n",
    "non_cat_selectedCols = x_cat.drop(columns=cat_selectedCols).columns\n",
    "print(\"kolom yang akan dihilangkan = \",non_cat_selectedCols)"
   ]
  },
  {
   "cell_type": "markdown",
   "id": "promising-cabinet",
   "metadata": {},
   "source": [
    "Berdasarkan hasil dari P-values yang mana jika P-Values>0.05 maka variabel tersebut dianggap tidak berpengaruh terhadap keputusan target, oleh karena itu features pada categorical variabel yang akan digunakan yaitu Geography, Gender, NumofProduct dan IsActiveMember"
   ]
  },
  {
   "cell_type": "code",
   "execution_count": 64,
   "id": "chemical-stake",
   "metadata": {},
   "outputs": [],
   "source": [
    "features_selected = x[num_selectedCols+cat_selectedCols]"
   ]
  },
  {
   "cell_type": "markdown",
   "id": "structural-donna",
   "metadata": {},
   "source": [
    "### b. Oversampling"
   ]
  },
  {
   "cell_type": "markdown",
   "id": "professional-component",
   "metadata": {},
   "source": [
    "Sebelumnya pada univariate analysis, variabel target mengalami imbalanced data atau jumlah nasabah yang tetap tinggal lebih banyak dibandingkan dengan jumblah nasabah yang pergi. Hal ini dapat mempengaruhi model klasifikasi yang kemungkinan akan cenderung mengenali nasabah yang tetap tinggal saja, namun kita ingin model yang dibangun dapat dengan baik memprediksi nasabah yang pergi untuk dapat mengantisipasinya."
   ]
  },
  {
   "cell_type": "markdown",
   "id": "immune-accent",
   "metadata": {},
   "source": [
    "Untuk itu kita perlu melakukan treatment pada data, yaitu dengan menggunakan oversampling atau menambahkan data pada class minor, salah satu teknik oversampling yang digunakan yaitu SMOTE (Synthetic Minority Oversamoling Technique). SMOTE menemukan k-nearest neighbors terdekat dari setiap data minoritas, lalu secara acak memilih salah satu dari mereka dan menghitung interpolasi liniear untuk menghasilkan data minoritas baru di lingkungan tersebut"
   ]
  },
  {
   "cell_type": "code",
   "execution_count": 65,
   "id": "spanish-perry",
   "metadata": {},
   "outputs": [],
   "source": [
    "from imblearn.over_sampling import SMOTE"
   ]
  },
  {
   "cell_type": "code",
   "execution_count": 66,
   "id": "removable-export",
   "metadata": {},
   "outputs": [],
   "source": [
    "smote = SMOTE(sampling_strategy=0.75,random_state=1234)\n",
    "x_smote,y_smote = smote.fit_resample(features_selected,y) "
   ]
  },
  {
   "cell_type": "code",
   "execution_count": 71,
   "id": "wicked-journalist",
   "metadata": {},
   "outputs": [
    {
     "data": {
      "image/png": "[encoded data removed]",
      "text/plain": [
       "<Figure size 360x360 with 1 Axes>"
      ]
     },
     "metadata": {},
     "output_type": "display_data"
    }
   ],
   "source": [
    "plt.figure(figsize=(5,5))\n",
    "plt.title(\"PieChart OF Customers Churn\")\n",
    "plt.pie(y_smote.value_counts(),\n",
    "       labels = ['Staying with the bank','Exited customers'],\n",
    "       autopct ='%.2f%%',\n",
    "       colors = ['#00EAD3','#FFF5B7'],\n",
    "       explode=(0.0,0.05),\n",
    "       shadow = True)\n",
    "plt.show()"
   ]
  },
  {
   "cell_type": "markdown",
   "id": "falling-enough",
   "metadata": {},
   "source": [
    "### f. Splitting data to train and test set"
   ]
  },
  {
   "cell_type": "markdown",
   "id": "dying-midnight",
   "metadata": {},
   "source": [
    "Setelah mendapatkan feature yang akan digunakan untuk model klasifikasi, kita akan membagi dataset menjadi train dan test. trainset disini berfungsi untuk melatih data dan mendapatkan parameter yang optimal pada model klasifikasi, sedangkan untuk test set berfungsi untuk evaluasi final pada model klasifikasi."
   ]
  },
  {
   "cell_type": "code",
   "execution_count": 54,
   "id": "bacterial-transcription",
   "metadata": {},
   "outputs": [],
   "source": [
    "x_train,x_test,y_train,y_test = train_test_split(x_smote, y_smote, test_size=0.2,stratify=y_smote,random_state=1234)"
   ]
  },
  {
   "cell_type": "markdown",
   "id": "finnish-cancer",
   "metadata": {},
   "source": [
    "## 4. Build Predictive Model"
   ]
  },
  {
   "cell_type": "markdown",
   "id": "minor-maldives",
   "metadata": {},
   "source": [
    "Setelah semua data siap digunakan untuk melatih model klasifikasi, selanjutnya yaitu membangun model untuk prediksi klasifikasi, yang mana pada project ini akan menggunakan 3 model klasifikasi dan memilih satu terbaik dari 3 model klasifikasi. 3 model tersebut yaitu XGBoost, Logistic Regression, dan Support Vector Machine."
   ]
  },
  {
   "cell_type": "markdown",
   "id": "finished-jefferson",
   "metadata": {},
   "source": [
    "Untuk mendapatkan parameter terbaik dari setiap model, kita menggunakan RandomizedSearchCV untuk mencari secara acak kombinasi dari setiap parameter yang diberikan dengan 10 Cross validation."
   ]
  },
  {
   "cell_type": "markdown",
   "id": "oriental-equilibrium",
   "metadata": {},
   "source": [
    "#### a, XGBoost"
   ]
  },
  {
   "cell_type": "code",
   "execution_count": 72,
   "id": "minute-company",
   "metadata": {},
   "outputs": [],
   "source": [
    "xgb = XGBClassifier(eval_metric='mlogloss',use_label_encoder=False)"
   ]
  },
  {
   "cell_type": "code",
   "execution_count": 73,
   "id": "completed-google",
   "metadata": {},
   "outputs": [],
   "source": [
    "xgb_params = {\"colsample_bytree\": [0.3, 0.5, 0.7, 0.9, 1],\n",
    "              \"gamma\": [0, 0.5,0.25, 1],\n",
    "              \"learning_rate\": [0.1,0.2,0.3],\n",
    "              \"max_depth\": [4,6,8],\n",
    "              \"n_estimators\":[100,200,300]\n",
    "             }"
   ]
  },
  {
   "cell_type": "code",
   "execution_count": 74,
   "id": "successful-williams",
   "metadata": {},
   "outputs": [],
   "source": [
    "xgb_grid = RandomizedSearchCV(xgb,\n",
    "                       param_distributions=xgb_params,\n",
    "                       scoring='accuracy',\n",
    "                       cv=10,\n",
    "                       n_jobs=-1,\n",
    "                        random_state=123,\n",
    "                       return_train_score=True)"
   ]
  },
  {
   "cell_type": "code",
   "execution_count": 75,
   "id": "vital-binary",
   "metadata": {},
   "outputs": [],
   "source": [
    "xgb_fit = xgb_grid.fit(x_train,y_train)"
   ]
  },
  {
   "cell_type": "code",
   "execution_count": 76,
   "id": "aging-registrar",
   "metadata": {},
   "outputs": [],
   "source": [
    "xgb_result = pd.DataFrame.from_dict(xgb_fit.cv_results_)"
   ]
  },
  {
   "cell_type": "markdown",
   "id": "searching-killer",
   "metadata": {},
   "source": [
    "##### Testing model using the best XGBoost parameters"
   ]
  },
  {
   "cell_type": "code",
   "execution_count": 77,
   "id": "engaged-nylon",
   "metadata": {},
   "outputs": [
    {
     "data": {
      "text/plain": [
       "{'n_estimators': 300,\n",
       " 'max_depth': 8,\n",
       " 'learning_rate': 0.1,\n",
       " 'gamma': 0.25,\n",
       " 'colsample_bytree': 0.5}"
      ]
     },
     "execution_count": 77,
     "metadata": {},
     "output_type": "execute_result"
    }
   ],
   "source": [
    "xgb_fit.best_params_"
   ]
  },
  {
   "cell_type": "code",
   "execution_count": 78,
   "id": "responsible-definition",
   "metadata": {},
   "outputs": [],
   "source": [
    "xgb_final = XGBClassifier(colsample_bytree= 0.7, gamma= 1, learning_rate= 0.1, max_depth =4,n_estimators=100,eval_metric='mlogloss',use_label_encoder=False)"
   ]
  },
  {
   "cell_type": "code",
   "execution_count": 79,
   "id": "organized-start",
   "metadata": {},
   "outputs": [
    {
     "data": {
      "text/plain": [
       "XGBClassifier(base_score=0.5, booster='gbtree', colsample_bylevel=1,\n",
       "              colsample_bynode=1, colsample_bytree=0.7, eval_metric='mlogloss',\n",
       "              gamma=1, gpu_id=-1, importance_type='gain',\n",
       "              interaction_constraints='', learning_rate=0.1, max_delta_step=0,\n",
       "              max_depth=4, min_child_weight=1, missing=nan,\n",
       "              monotone_constraints='()', n_estimators=100, n_jobs=4,\n",
       "              num_parallel_tree=1, random_state=0, reg_alpha=0, reg_lambda=1,\n",
       "              scale_pos_weight=1, subsample=1, tree_method='exact',\n",
       "              use_label_encoder=False, validate_parameters=1, verbosity=None)"
      ]
     },
     "execution_count": 79,
     "metadata": {},
     "output_type": "execute_result"
    }
   ],
   "source": [
    "xgb_final.fit(x_train,y_train)"
   ]
  },
  {
   "cell_type": "code",
   "execution_count": 80,
   "id": "velvet-cloud",
   "metadata": {},
   "outputs": [],
   "source": [
    "xgb_y_pred = xgb_final.predict(x_test)"
   ]
  },
  {
   "cell_type": "code",
   "execution_count": 81,
   "id": "falling-collins",
   "metadata": {},
   "outputs": [],
   "source": [
    "xgb_acc = accuracy_score(y_test,xgb_y_pred)\n",
    "xgb_f1 = f1_score(y_test,xgb_y_pred)\n",
    "xgb_prec = precision_score(y_test,xgb_y_pred)\n",
    "xgb_recall = recall_score(y_test,xgb_y_pred)\n",
    "xgb_cm = confusion_matrix(y_test,xgb_y_pred)"
   ]
  },
  {
   "cell_type": "markdown",
   "id": "relevant-retirement",
   "metadata": {},
   "source": [
    "#### b. Logistic Regression"
   ]
  },
  {
   "cell_type": "code",
   "execution_count": 82,
   "id": "normal-fruit",
   "metadata": {},
   "outputs": [],
   "source": [
    "lr = LogisticRegression()"
   ]
  },
  {
   "cell_type": "code",
   "execution_count": 83,
   "id": "communist-naples",
   "metadata": {},
   "outputs": [],
   "source": [
    "lr_params = { 'C':[0.5, 0.75, 1.0, 1.25, 1.5],\n",
    "             'penalty':['l2'],\n",
    "             'solver':['lbfgs', 'liblinear', 'sag']}"
   ]
  },
  {
   "cell_type": "code",
   "execution_count": 84,
   "id": "talented-netscape",
   "metadata": {},
   "outputs": [],
   "source": [
    "lr_grid = RandomizedSearchCV(estimator=lr,\n",
    "                          param_distributions=lr_params,\n",
    "                          scoring='accuracy',\n",
    "                          cv=10,\n",
    "                          n_jobs=-1,\n",
    "                          random_state=123,\n",
    "                          return_train_score=True)"
   ]
  },
  {
   "cell_type": "code",
   "execution_count": 85,
   "id": "hazardous-headquarters",
   "metadata": {},
   "outputs": [],
   "source": [
    "lr_fit = lr_grid.fit(x_train,y_train)"
   ]
  },
  {
   "cell_type": "code",
   "execution_count": 86,
   "id": "norwegian-concrete",
   "metadata": {},
   "outputs": [],
   "source": [
    "lr_result= pd.DataFrame.from_dict(lr_fit.cv_results_)"
   ]
  },
  {
   "cell_type": "markdown",
   "id": "intimate-shade",
   "metadata": {},
   "source": [
    "##### Testing model using the best Logistic Regression parameters"
   ]
  },
  {
   "cell_type": "code",
   "execution_count": 87,
   "id": "ranking-uncertainty",
   "metadata": {},
   "outputs": [
    {
     "data": {
      "text/plain": [
       "{'solver': 'liblinear', 'penalty': 'l2', 'C': 1.25}"
      ]
     },
     "execution_count": 87,
     "metadata": {},
     "output_type": "execute_result"
    }
   ],
   "source": [
    "lr_fit.best_params_"
   ]
  },
  {
   "cell_type": "code",
   "execution_count": 88,
   "id": "unsigned-romance",
   "metadata": {},
   "outputs": [
    {
     "data": {
      "text/plain": [
       "LogisticRegression(C=0.75, solver='liblinear')"
      ]
     },
     "execution_count": 88,
     "metadata": {},
     "output_type": "execute_result"
    }
   ],
   "source": [
    "lr_final = LogisticRegression(solver='liblinear',penalty='l2',C=0.75)\n",
    "lr_final.fit(x_train,y_train)"
   ]
  },
  {
   "cell_type": "code",
   "execution_count": 89,
   "id": "traditional-vatican",
   "metadata": {},
   "outputs": [],
   "source": [
    "lr_y_pred = lr_final.predict(x_test)"
   ]
  },
  {
   "cell_type": "code",
   "execution_count": 90,
   "id": "spanish-allocation",
   "metadata": {},
   "outputs": [],
   "source": [
    "lr_acc = accuracy_score(y_test,lr_y_pred)\n",
    "lr_f1 = f1_score(y_test,lr_y_pred)\n",
    "lr_prec = precision_score(y_test,lr_y_pred)\n",
    "lr_recall = recall_score(y_test,lr_y_pred)\n",
    "lr_cm = confusion_matrix(y_test,lr_y_pred)"
   ]
  },
  {
   "cell_type": "markdown",
   "id": "unavailable-currency",
   "metadata": {},
   "source": [
    "#### c. Support Vector Machine"
   ]
  },
  {
   "cell_type": "code",
   "execution_count": 91,
   "id": "floating-editing",
   "metadata": {},
   "outputs": [],
   "source": [
    "svm = SVC(random_state=1234)"
   ]
  },
  {
   "cell_type": "code",
   "execution_count": 92,
   "id": "double-consumer",
   "metadata": {},
   "outputs": [],
   "source": [
    "svm_param ={'C':[0.1,0.5,1,2,5,10],\n",
    "            'kernel':['rbf','linear'],\n",
    "            'gamma':[0.1, 0.25, 0.5,1 , 2 ,5 ]}"
   ]
  },
  {
   "cell_type": "code",
   "execution_count": 93,
   "id": "acknowledged-experiment",
   "metadata": {},
   "outputs": [],
   "source": [
    "svm_grid =  RandomizedSearchCV(svm,\n",
    "                                param_distributions=svm_param,\n",
    "                                scoring='accuracy',\n",
    "                                cv=10,\n",
    "                                n_jobs=-1,\n",
    "                                random_state=123,\n",
    "                                return_train_score=True)"
   ]
  },
  {
   "cell_type": "code",
   "execution_count": 94,
   "id": "hollywood-fruit",
   "metadata": {},
   "outputs": [],
   "source": [
    "svm_fit = svm_grid.fit(x_train,y_train)"
   ]
  },
  {
   "cell_type": "code",
   "execution_count": 95,
   "id": "traditional-experiment",
   "metadata": {},
   "outputs": [],
   "source": [
    "svm_result = pd.DataFrame.from_dict(svm_fit.cv_results_)"
   ]
  },
  {
   "cell_type": "markdown",
   "id": "specific-vermont",
   "metadata": {},
   "source": [
    "##### Testing model using the best SVM parameters"
   ]
  },
  {
   "cell_type": "code",
   "execution_count": 96,
   "id": "exciting-uganda",
   "metadata": {},
   "outputs": [
    {
     "data": {
      "text/plain": [
       "{'kernel': 'rbf', 'gamma': 1, 'C': 5}"
      ]
     },
     "execution_count": 96,
     "metadata": {},
     "output_type": "execute_result"
    }
   ],
   "source": [
    "svm_fit.best_params_"
   ]
  },
  {
   "cell_type": "code",
   "execution_count": 97,
   "id": "optional-company",
   "metadata": {},
   "outputs": [
    {
     "data": {
      "text/plain": [
       "SVC(C=1, gamma=0.25)"
      ]
     },
     "execution_count": 97,
     "metadata": {},
     "output_type": "execute_result"
    }
   ],
   "source": [
    "svm_final = SVC(kernel='rbf',gamma=0.25,C=1)\n",
    "svm_final.fit(x_train,y_train)"
   ]
  },
  {
   "cell_type": "code",
   "execution_count": 98,
   "id": "bronze-starter",
   "metadata": {},
   "outputs": [],
   "source": [
    "svm_y_pred = svm_final.predict(x_test)"
   ]
  },
  {
   "cell_type": "code",
   "execution_count": 99,
   "id": "super-procurement",
   "metadata": {},
   "outputs": [],
   "source": [
    "svm_acc = accuracy_score(y_test, svm_y_pred)\n",
    "svm_f1 = f1_score(y_test, svm_y_pred)\n",
    "svm_prec = precision_score(y_test, svm_y_pred)\n",
    "svm_recall = recall_score(y_test, svm_y_pred)\n",
    "svm_cm = confusion_matrix(y_test,svm_y_pred)"
   ]
  },
  {
   "cell_type": "markdown",
   "id": "competitive-pierre",
   "metadata": {},
   "source": [
    "#### d. Compare Result"
   ]
  },
  {
   "cell_type": "code",
   "execution_count": 136,
   "id": "universal-elizabeth",
   "metadata": {},
   "outputs": [],
   "source": [
    "df_dict = {'Model':['XGBoost','Logistic Regression','Support Vector Machine'],\n",
    "          'Accuracy':[xgb_acc, lr_acc, svm_acc],\n",
    "          'F1_score':[xgb_f1, lr_f1, svm_f1],\n",
    "          'Precision':[xgb_prec, lr_prec, svm_prec],\n",
    "          'Recall':[xgb_recall, lr_recall, svm_recall]}"
   ]
  },
  {
   "cell_type": "code",
   "execution_count": 137,
   "id": "specified-gross",
   "metadata": {},
   "outputs": [
    {
     "data": {
      "text/html": [
       "<div>\n",
       "<style scoped>\n",
       "    .dataframe tbody tr th:only-of-type {\n",
       "        vertical-align: middle;\n",
       "    }\n",
       "\n",
       "    .dataframe tbody tr th {\n",
       "        vertical-align: top;\n",
       "    }\n",
       "\n",
       "    .dataframe thead th {\n",
       "        text-align: right;\n",
       "    }\n",
       "</style>\n",
       "<table border=\"1\" class=\"dataframe\">\n",
       "  <thead>\n",
       "    <tr style=\"text-align: right;\">\n",
       "      <th></th>\n",
       "      <th>Model</th>\n",
       "      <th>Accuracy</th>\n",
       "      <th>F1_score</th>\n",
       "      <th>Precision</th>\n",
       "      <th>Recall</th>\n",
       "    </tr>\n",
       "  </thead>\n",
       "  <tbody>\n",
       "    <tr>\n",
       "      <th>0</th>\n",
       "      <td>XGBoost</td>\n",
       "      <td>0.841831</td>\n",
       "      <td>0.805670</td>\n",
       "      <td>0.850386</td>\n",
       "      <td>0.765421</td>\n",
       "    </tr>\n",
       "    <tr>\n",
       "      <th>1</th>\n",
       "      <td>Logistic Regression</td>\n",
       "      <td>0.772981</td>\n",
       "      <td>0.719669</td>\n",
       "      <td>0.763902</td>\n",
       "      <td>0.680278</td>\n",
       "    </tr>\n",
       "    <tr>\n",
       "      <th>2</th>\n",
       "      <td>Support Vector Machine</td>\n",
       "      <td>0.795311</td>\n",
       "      <td>0.742750</td>\n",
       "      <td>0.804458</td>\n",
       "      <td>0.689835</td>\n",
       "    </tr>\n",
       "  </tbody>\n",
       "</table>\n",
       "</div>"
      ],
      "text/plain": [
       "                    Model  Accuracy  F1_score  Precision    Recall\n",
       "0                 XGBoost  0.841831  0.805670   0.850386  0.765421\n",
       "1     Logistic Regression  0.772981  0.719669   0.763902  0.680278\n",
       "2  Support Vector Machine  0.795311  0.742750   0.804458  0.689835"
      ]
     },
     "execution_count": 137,
     "metadata": {},
     "output_type": "execute_result"
    }
   ],
   "source": [
    "result_df = pd.DataFrame(df_dict)\n",
    "result_df"
   ]
  },
  {
   "cell_type": "code",
   "execution_count": 103,
   "id": "oriental-armor",
   "metadata": {},
   "outputs": [
    {
     "name": "stdout",
     "output_type": "stream",
     "text": [
      "Confusion matrix XGBoost:\n",
      "[[1381  155]\n",
      " [ 270  881]]\n"
     ]
    }
   ],
   "source": [
    "print(\"Confusion matrix XGBoost:\")\n",
    "print(xgb_cm)"
   ]
  },
  {
   "cell_type": "markdown",
   "id": "median-salad",
   "metadata": {},
   "source": [
    "Berdasarkan hasil dari perbandingan 3 model klasifikasi, model yang akan digunakan untuk Bank customers churn prediction adalah XGBoost, yang mana model ini memiliki nilai akurasi dan f1_score terbaik dibanding 2 model lainnya."
   ]
  },
  {
   "cell_type": "markdown",
   "id": "cardiovascular-gross",
   "metadata": {},
   "source": [
    "Jika kita melihat kembali tujuan awal dari project ini yaitu untuk mengantisipasi nasabah pergi, untuk itu kita berusaha untuk memaksimalkan nilai recall atau meminimalisir false negative dengan menyesuaikan threshold yang menentukan hasil prediksi itu 0 atau 1"
   ]
  },
  {
   "cell_type": "markdown",
   "id": "stable-helena",
   "metadata": {},
   "source": [
    "### ROC_AUC CURVE"
   ]
  },
  {
   "cell_type": "code",
   "execution_count": 105,
   "id": "colonial-pharmaceutical",
   "metadata": {},
   "outputs": [
    {
     "data": {
      "image/png": "[encoded data removed]",
      "text/plain": [
       "<Figure size 720x360 with 1 Axes>"
      ]
     },
     "metadata": {
      "needs_background": "light"
     },
     "output_type": "display_data"
    }
   ],
   "source": [
    "fpr, tpr, threshold = roc_curve(y_test,xgb_yprob[:,1])\n",
    "roc_auc = auc(fpr,tpr)\n",
    "\n",
    "fig, ax = plt.subplots(figsize=(10,5))\n",
    "ax.plot(fpr,tpr, label='ROC curve (area = %0.2f)' % roc_auc)\n",
    "ax.set_xlabel('False Positive Rate')\n",
    "ax.set_ylabel('True Positive Rate')\n",
    "ax.set_title('Receiver operating characteristic example of XGBoost')\n",
    "ax.legend(loc='lower right')\n",
    "plt.show()\n"
   ]
  },
  {
   "cell_type": "markdown",
   "id": "revised-affairs",
   "metadata": {},
   "source": [
    "### Features important"
   ]
  },
  {
   "cell_type": "code",
   "execution_count": 106,
   "id": "capable-accessory",
   "metadata": {},
   "outputs": [
    {
     "data": {
      "image/png": "[encoded data removed]",
      "text/plain": [
       "<Figure size 720x576 with 1 Axes>"
      ]
     },
     "metadata": {
      "needs_background": "light"
     },
     "output_type": "display_data"
    }
   ],
   "source": [
    "plt.figure(figsize=(10,8))\n",
    "plt.bar(features_selected.columns,xgb_final.feature_importances_,color='#003638')\n",
    "plt.xlabel(\"Features\")\n",
    "plt.ylabel(\"Feature importance\")\n",
    "plt.xticks(rotation=45)\n",
    "plt.show()"
   ]
  },
  {
   "cell_type": "markdown",
   "id": "boxed-transfer",
   "metadata": {},
   "source": [
    "### XGBoost threshold tuning"
   ]
  },
  {
   "cell_type": "code",
   "execution_count": 104,
   "id": "affiliated-insulin",
   "metadata": {},
   "outputs": [],
   "source": [
    "xgb_yprob = xgb_final.predict_proba(x_test)"
   ]
  },
  {
   "cell_type": "markdown",
   "id": "creative-algorithm",
   "metadata": {},
   "source": [
    "#### Find optimal threshold"
   ]
  },
  {
   "cell_type": "code",
   "execution_count": 144,
   "id": "accepting-ethics",
   "metadata": {},
   "outputs": [
    {
     "name": "stdout",
     "output_type": "stream",
     "text": [
      "Best Threshold: 0.33660000562667847 with F-Score: 0.8163\n",
      "Recall: 0.8784, Precision: 0.7624\n"
     ]
    }
   ],
   "source": [
    "precision, recall, thresholds = precision_recall_curve(y_test, xgb_yprob[:,1])\n",
    "\n",
    "fscore = (2 * precision * recall) / (precision + recall)\n",
    "\n",
    "index = np.argmax(fscore)\n",
    "thresholdOpt = round(thresholds[index],4)\n",
    "fscoreOpt = round(fscore[index],4)\n",
    "recallOpt = round(recall[index],4)\n",
    "precisionOpt = round(precision[index],4)\n",
    "\n",
    "print('Best Threshold: {} with F-Score: {}'.format(thresholdOpt,fscoreOpt))\n",
    "print('Recall: {}, Precision: {}'.format(recallOpt,precisionOpt))"
   ]
  },
  {
   "cell_type": "markdown",
   "id": "compatible-comedy",
   "metadata": {},
   "source": [
    "#### Precision-Recall curve"
   ]
  },
  {
   "cell_type": "code",
   "execution_count": 152,
   "id": "paperback-deposit",
   "metadata": {},
   "outputs": [
    {
     "data": {
      "image/png": "[encoded data removed]",
      "text/plain": [
       "<Figure size 720x360 with 1 Axes>"
      ]
     },
     "metadata": {
      "needs_background": "light"
     },
     "output_type": "display_data"
    }
   ],
   "source": [
    "fig, ax = plt.subplots(figsize=(10,5))\n",
    "ax.plot(recall,precision, )\n",
    "ax.scatter(recallOpt,precisionOpt,color='r',s=50,label='Optimal threshold for class: %0.4f' %thresholdOpt)\n",
    "ax.set_xlabel('Recall')\n",
    "ax.set_ylabel('Precision')\n",
    "ax.set_title('Precision Recall Curve')\n",
    "ax.legend(loc='upper right')\n",
    "plt.show()"
   ]
  },
  {
   "cell_type": "markdown",
   "id": "brave-commercial",
   "metadata": {},
   "source": [
    "Dengan menggunakan kurva Precision-Recall dan F1-score, menghasilkan nilai Threshold 0,3366 untuk menentukan apakah pengamatan yang diberikan termasuk kelas mayor atau minor."
   ]
  },
  {
   "cell_type": "code",
   "execution_count": 153,
   "id": "durable-laser",
   "metadata": {},
   "outputs": [],
   "source": [
    "y_adjust = []\n",
    "for y0 in xgb_yprob[:,1]:\n",
    "    if y0 >=thresholdOpt:\n",
    "        y_adjust.append(1)\n",
    "    else:\n",
    "        y_adjust.append(0)"
   ]
  },
  {
   "cell_type": "code",
   "execution_count": 154,
   "id": "trying-zealand",
   "metadata": {},
   "outputs": [
    {
     "data": {
      "text/plain": [
       "array([[1221,  315],\n",
       "       [ 142, 1009]], dtype=int64)"
      ]
     },
     "execution_count": 154,
     "metadata": {},
     "output_type": "execute_result"
    }
   ],
   "source": [
    "confusion_matrix(y_test,y_adjust)"
   ]
  },
  {
   "cell_type": "code",
   "execution_count": 155,
   "id": "curious-longer",
   "metadata": {},
   "outputs": [
    {
     "name": "stdout",
     "output_type": "stream",
     "text": [
      "              precision    recall  f1-score   support\n",
      "\n",
      "         0.0       0.90      0.79      0.84      1536\n",
      "         1.0       0.76      0.88      0.82      1151\n",
      "\n",
      "    accuracy                           0.83      2687\n",
      "   macro avg       0.83      0.84      0.83      2687\n",
      "weighted avg       0.84      0.83      0.83      2687\n",
      "\n"
     ]
    }
   ],
   "source": [
    "print(classification_report(y_test,y_adjust))"
   ]
  },
  {
   "cell_type": "code",
   "execution_count": 156,
   "id": "frozen-summary",
   "metadata": {},
   "outputs": [
    {
     "data": {
      "text/html": [
       "<div>\n",
       "<style scoped>\n",
       "    .dataframe tbody tr th:only-of-type {\n",
       "        vertical-align: middle;\n",
       "    }\n",
       "\n",
       "    .dataframe tbody tr th {\n",
       "        vertical-align: top;\n",
       "    }\n",
       "\n",
       "    .dataframe thead th {\n",
       "        text-align: right;\n",
       "    }\n",
       "</style>\n",
       "<table border=\"1\" class=\"dataframe\">\n",
       "  <thead>\n",
       "    <tr style=\"text-align: right;\">\n",
       "      <th></th>\n",
       "      <th>Model</th>\n",
       "      <th>Accuracy</th>\n",
       "      <th>F1_score</th>\n",
       "      <th>Precision</th>\n",
       "      <th>Recall</th>\n",
       "    </tr>\n",
       "  </thead>\n",
       "  <tbody>\n",
       "    <tr>\n",
       "      <th>0</th>\n",
       "      <td>XGBoost</td>\n",
       "      <td>0.841831</td>\n",
       "      <td>0.805670</td>\n",
       "      <td>0.850386</td>\n",
       "      <td>0.765421</td>\n",
       "    </tr>\n",
       "    <tr>\n",
       "      <th>1</th>\n",
       "      <td>Logistic Regression</td>\n",
       "      <td>0.772981</td>\n",
       "      <td>0.719669</td>\n",
       "      <td>0.763902</td>\n",
       "      <td>0.680278</td>\n",
       "    </tr>\n",
       "    <tr>\n",
       "      <th>2</th>\n",
       "      <td>Support Vector Machine</td>\n",
       "      <td>0.795311</td>\n",
       "      <td>0.742750</td>\n",
       "      <td>0.804458</td>\n",
       "      <td>0.689835</td>\n",
       "    </tr>\n",
       "    <tr>\n",
       "      <th>3</th>\n",
       "      <td>Adjusted XGBoost threshold</td>\n",
       "      <td>0.829922</td>\n",
       "      <td>0.815354</td>\n",
       "      <td>0.762085</td>\n",
       "      <td>0.876629</td>\n",
       "    </tr>\n",
       "  </tbody>\n",
       "</table>\n",
       "</div>"
      ],
      "text/plain": [
       "                        Model  Accuracy  F1_score  Precision    Recall\n",
       "0                     XGBoost  0.841831  0.805670   0.850386  0.765421\n",
       "1         Logistic Regression  0.772981  0.719669   0.763902  0.680278\n",
       "2      Support Vector Machine  0.795311  0.742750   0.804458  0.689835\n",
       "3  Adjusted XGBoost threshold  0.829922  0.815354   0.762085  0.876629"
      ]
     },
     "execution_count": 156,
     "metadata": {},
     "output_type": "execute_result"
    }
   ],
   "source": [
    "adjusted_th = {'Model':['Adjusted XGBoost threshold'],\n",
    "          'Accuracy':[accuracy_score(y_test,y_adjust)],\n",
    "          'F1_score':[f1_score(y_test,y_adjust)],\n",
    "          'Precision':[precision_score(y_test,y_adjust)],\n",
    "          'Recall':[recall_score(y_test,y_adjust)]}\n",
    "df_adjusted_th = result_df.append(pd.DataFrame(adjusted_th)).reset_index(drop=True)\n",
    "df_adjusted_th"
   ]
  },
  {
   "cell_type": "markdown",
   "id": "reserved-professional",
   "metadata": {},
   "source": [
    "dengan menggunakan threshold 0.3366 maka nilai dari recall dapat lebih maksimal dibandingkan dengan threshold 0.5, yang berarti bahwa model lebih sering memprediksi nasabah yang pergi, untuk itu pihak bank dapat fokus kepada nasabah yang terindikasi pergi meninggalkan bank"
   ]
  },
  {
   "cell_type": "markdown",
   "id": "offshore-failing",
   "metadata": {},
   "source": [
    "## 5. Final Model"
   ]
  },
  {
   "cell_type": "markdown",
   "id": "honest-shaft",
   "metadata": {},
   "source": [
    "#### Saving features used"
   ]
  },
  {
   "cell_type": "code",
   "execution_count": 157,
   "id": "motivated-procedure",
   "metadata": {},
   "outputs": [
    {
     "data": {
      "text/plain": [
       "['features_selected.pkl']"
      ]
     },
     "execution_count": 157,
     "metadata": {},
     "output_type": "execute_result"
    }
   ],
   "source": [
    "joblib.dump(features_selected.columns,'features_selected.pkl')"
   ]
  },
  {
   "cell_type": "markdown",
   "id": "provincial-seminar",
   "metadata": {},
   "source": [
    "#### Saving StandardScaler"
   ]
  },
  {
   "cell_type": "code",
   "execution_count": 158,
   "id": "cross-wellington",
   "metadata": {},
   "outputs": [
    {
     "data": {
      "text/plain": [
       "['standardscaler.pkl']"
      ]
     },
     "execution_count": 158,
     "metadata": {},
     "output_type": "execute_result"
    }
   ],
   "source": [
    "joblib.dump(sc,'standardscaler.pkl')"
   ]
  },
  {
   "cell_type": "markdown",
   "id": "crude-seller",
   "metadata": {},
   "source": [
    "#### Saving One Hot Encoder"
   ]
  },
  {
   "cell_type": "code",
   "execution_count": 201,
   "id": "restricted-samoa",
   "metadata": {},
   "outputs": [
    {
     "data": {
      "text/plain": [
       "['encoder.pkl']"
      ]
     },
     "execution_count": 201,
     "metadata": {},
     "output_type": "execute_result"
    }
   ],
   "source": [
    "joblib.dump(encoder,'encoder.pkl')"
   ]
  },
  {
   "cell_type": "markdown",
   "id": "medium-eating",
   "metadata": {},
   "source": [
    "#### Saving the XGBoost model"
   ]
  },
  {
   "cell_type": "code",
   "execution_count": 160,
   "id": "answering-softball",
   "metadata": {},
   "outputs": [
    {
     "data": {
      "text/plain": [
       "['xgb_model.pkl']"
      ]
     },
     "execution_count": 160,
     "metadata": {},
     "output_type": "execute_result"
    }
   ],
   "source": [
    "joblib.dump(xgb_final,'xgb_model.pkl')"
   ]
  },
  {
   "cell_type": "markdown",
   "id": "intensive-douglas",
   "metadata": {},
   "source": [
    "## 6. Pediction Single Observation"
   ]
  },
  {
   "cell_type": "markdown",
   "id": "secret-birmingham",
   "metadata": {},
   "source": [
    "### a. Load data, model, standard scaler, one hot encoder, and selected features"
   ]
  },
  {
   "cell_type": "code",
   "execution_count": 161,
   "id": "proprietary-istanbul",
   "metadata": {},
   "outputs": [
    {
     "data": {
      "text/html": [
       "<div>\n",
       "<style scoped>\n",
       "    .dataframe tbody tr th:only-of-type {\n",
       "        vertical-align: middle;\n",
       "    }\n",
       "\n",
       "    .dataframe tbody tr th {\n",
       "        vertical-align: top;\n",
       "    }\n",
       "\n",
       "    .dataframe thead th {\n",
       "        text-align: right;\n",
       "    }\n",
       "</style>\n",
       "<table border=\"1\" class=\"dataframe\">\n",
       "  <thead>\n",
       "    <tr style=\"text-align: right;\">\n",
       "      <th></th>\n",
       "      <th>RowNumber</th>\n",
       "      <th>CustomerId</th>\n",
       "      <th>Surname</th>\n",
       "      <th>CreditScore</th>\n",
       "      <th>Geography</th>\n",
       "      <th>Gender</th>\n",
       "      <th>Age</th>\n",
       "      <th>Tenure</th>\n",
       "      <th>Balance</th>\n",
       "      <th>NumOfProducts</th>\n",
       "      <th>HasCrCard</th>\n",
       "      <th>IsActiveMember</th>\n",
       "      <th>EstimatedSalary</th>\n",
       "      <th>Exited</th>\n",
       "    </tr>\n",
       "  </thead>\n",
       "  <tbody>\n",
       "    <tr>\n",
       "      <th>0</th>\n",
       "      <td>1</td>\n",
       "      <td>15634602</td>\n",
       "      <td>Hargrave</td>\n",
       "      <td>619</td>\n",
       "      <td>France</td>\n",
       "      <td>Female</td>\n",
       "      <td>42</td>\n",
       "      <td>2</td>\n",
       "      <td>0.00</td>\n",
       "      <td>1</td>\n",
       "      <td>1</td>\n",
       "      <td>1</td>\n",
       "      <td>101348.88</td>\n",
       "      <td>1</td>\n",
       "    </tr>\n",
       "    <tr>\n",
       "      <th>1</th>\n",
       "      <td>2</td>\n",
       "      <td>15647311</td>\n",
       "      <td>Hill</td>\n",
       "      <td>608</td>\n",
       "      <td>Spain</td>\n",
       "      <td>Female</td>\n",
       "      <td>41</td>\n",
       "      <td>1</td>\n",
       "      <td>83807.86</td>\n",
       "      <td>1</td>\n",
       "      <td>0</td>\n",
       "      <td>1</td>\n",
       "      <td>112542.58</td>\n",
       "      <td>0</td>\n",
       "    </tr>\n",
       "    <tr>\n",
       "      <th>2</th>\n",
       "      <td>3</td>\n",
       "      <td>15619304</td>\n",
       "      <td>Onio</td>\n",
       "      <td>502</td>\n",
       "      <td>France</td>\n",
       "      <td>Female</td>\n",
       "      <td>42</td>\n",
       "      <td>8</td>\n",
       "      <td>159660.80</td>\n",
       "      <td>3</td>\n",
       "      <td>1</td>\n",
       "      <td>0</td>\n",
       "      <td>113931.57</td>\n",
       "      <td>1</td>\n",
       "    </tr>\n",
       "    <tr>\n",
       "      <th>3</th>\n",
       "      <td>4</td>\n",
       "      <td>15701354</td>\n",
       "      <td>Boni</td>\n",
       "      <td>699</td>\n",
       "      <td>France</td>\n",
       "      <td>Female</td>\n",
       "      <td>39</td>\n",
       "      <td>1</td>\n",
       "      <td>0.00</td>\n",
       "      <td>2</td>\n",
       "      <td>0</td>\n",
       "      <td>0</td>\n",
       "      <td>93826.63</td>\n",
       "      <td>0</td>\n",
       "    </tr>\n",
       "    <tr>\n",
       "      <th>4</th>\n",
       "      <td>5</td>\n",
       "      <td>15737888</td>\n",
       "      <td>Mitchell</td>\n",
       "      <td>850</td>\n",
       "      <td>Spain</td>\n",
       "      <td>Female</td>\n",
       "      <td>43</td>\n",
       "      <td>2</td>\n",
       "      <td>125510.82</td>\n",
       "      <td>1</td>\n",
       "      <td>1</td>\n",
       "      <td>1</td>\n",
       "      <td>79084.10</td>\n",
       "      <td>0</td>\n",
       "    </tr>\n",
       "  </tbody>\n",
       "</table>\n",
       "</div>"
      ],
      "text/plain": [
       "   RowNumber  CustomerId   Surname  CreditScore Geography  Gender  Age  \\\n",
       "0          1    15634602  Hargrave          619    France  Female   42   \n",
       "1          2    15647311      Hill          608     Spain  Female   41   \n",
       "2          3    15619304      Onio          502    France  Female   42   \n",
       "3          4    15701354      Boni          699    France  Female   39   \n",
       "4          5    15737888  Mitchell          850     Spain  Female   43   \n",
       "\n",
       "   Tenure    Balance  NumOfProducts  HasCrCard  IsActiveMember  \\\n",
       "0       2       0.00              1          1               1   \n",
       "1       1   83807.86              1          0               1   \n",
       "2       8  159660.80              3          1               0   \n",
       "3       1       0.00              2          0               0   \n",
       "4       2  125510.82              1          1               1   \n",
       "\n",
       "   EstimatedSalary  Exited  \n",
       "0        101348.88       1  \n",
       "1        112542.58       0  \n",
       "2        113931.57       1  \n",
       "3         93826.63       0  \n",
       "4         79084.10       0  "
      ]
     },
     "execution_count": 161,
     "metadata": {},
     "output_type": "execute_result"
    }
   ],
   "source": [
    "features = joblib.load('features_selected.pkl')\n",
    "sc = joblib.load('standardscaler.pkl')\n",
    "encoder = joblib.load('encoder.pkl')\n",
    "model = joblib.load('xgb_model.pkl')\n",
    "data = pd.read_csv('Churn_Modelling.csv')\n",
    "data.head()"
   ]
  },
  {
   "cell_type": "markdown",
   "id": "silver-shaft",
   "metadata": {},
   "source": [
    "### b. Drop columns that not used for prediction"
   ]
  },
  {
   "cell_type": "code",
   "execution_count": 162,
   "id": "noticed-tomorrow",
   "metadata": {},
   "outputs": [],
   "source": [
    "data_droped = data.drop(columns=['RowNumber','CustomerId','Surname'])"
   ]
  },
  {
   "cell_type": "markdown",
   "id": "curious-trademark",
   "metadata": {},
   "source": [
    "### c. Change datatypes"
   ]
  },
  {
   "cell_type": "code",
   "execution_count": 163,
   "id": "parallel-helena",
   "metadata": {},
   "outputs": [],
   "source": [
    "data_changed = data_droped.astype({\"Geography\":'category',\"Gender\":'category',\"Tenure\":'category',\"NumOfProducts\":'category',\"HasCrCard\":'category',\"IsActiveMember\":'category',\"Exited\":'category'})"
   ]
  },
  {
   "cell_type": "markdown",
   "id": "endless-syndrome",
   "metadata": {},
   "source": [
    "### d. Select single observation randomly"
   ]
  },
  {
   "cell_type": "code",
   "execution_count": 164,
   "id": "diverse-adult",
   "metadata": {},
   "outputs": [
    {
     "data": {
      "text/plain": [
       "CreditScore              739\n",
       "Geography             France\n",
       "Gender                  Male\n",
       "Age                       41\n",
       "Tenure                     5\n",
       "Balance                  0.0\n",
       "NumOfProducts              2\n",
       "HasCrCard                  0\n",
       "IsActiveMember             0\n",
       "EstimatedSalary    143882.25\n",
       "Exited                     0\n",
       "Name: 1808, dtype: object"
      ]
     },
     "execution_count": 164,
     "metadata": {},
     "output_type": "execute_result"
    }
   ],
   "source": [
    "idx = random.randint(0,len(data_changed))\n",
    "single_data = data_changed.iloc[idx,:]\n",
    "single_data"
   ]
  },
  {
   "cell_type": "markdown",
   "id": "metallic-airplane",
   "metadata": {},
   "source": [
    "### e. Feature Engineering"
   ]
  },
  {
   "cell_type": "markdown",
   "id": "original-biodiversity",
   "metadata": {},
   "source": [
    "#### Data Scaling "
   ]
  },
  {
   "cell_type": "code",
   "execution_count": 165,
   "id": "vanilla-looking",
   "metadata": {},
   "outputs": [],
   "source": [
    "column_numeric = ['CreditScore','Age','Balance','EstimatedSalary']\n",
    "data_numeric = single_data[column_numeric]"
   ]
  },
  {
   "cell_type": "code",
   "execution_count": 166,
   "id": "surrounded-appliance",
   "metadata": {},
   "outputs": [],
   "source": [
    "data_numeric_arr = np.array(data_numeric).reshape(1,-1)"
   ]
  },
  {
   "cell_type": "code",
   "execution_count": 167,
   "id": "rational-beginning",
   "metadata": {},
   "outputs": [],
   "source": [
    "std = sc.transform(data_numeric_arr)"
   ]
  },
  {
   "cell_type": "code",
   "execution_count": 168,
   "id": "bridal-eleven",
   "metadata": {},
   "outputs": [],
   "source": [
    "for i,col in enumerate(column_numeric):\n",
    "    data_numeric[col] = std[0][i]"
   ]
  },
  {
   "cell_type": "markdown",
   "id": "lyric-exclusion",
   "metadata": {},
   "source": [
    "#### Data encoding"
   ]
  },
  {
   "cell_type": "code",
   "execution_count": 169,
   "id": "artistic-expense",
   "metadata": {},
   "outputs": [],
   "source": [
    "column_category = ['Geography','Gender','Tenure','NumOfProducts','HasCrCard','IsActiveMember','Exited']\n",
    "data_category = single_data[column_category]"
   ]
  },
  {
   "cell_type": "code",
   "execution_count": 170,
   "id": "suited-respect",
   "metadata": {},
   "outputs": [],
   "source": [
    "data_category_arr = np.array(data_category).reshape(1,-1)"
   ]
  },
  {
   "cell_type": "code",
   "execution_count": 171,
   "id": "working-universal",
   "metadata": {},
   "outputs": [],
   "source": [
    "encoded = encoder.transform(data_category_arr)"
   ]
  },
  {
   "cell_type": "code",
   "execution_count": 172,
   "id": "modified-produce",
   "metadata": {},
   "outputs": [],
   "source": [
    "data_fe = data_numeric\n",
    "for i,col in enumerate(encoder.get_feature_names(column_category)):\n",
    "    data_fe[col] = encoded[0][i]"
   ]
  },
  {
   "cell_type": "markdown",
   "id": "bibliographic-praise",
   "metadata": {},
   "source": [
    "#### Features Selection"
   ]
  },
  {
   "cell_type": "code",
   "execution_count": 174,
   "id": "spatial-characterization",
   "metadata": {},
   "outputs": [],
   "source": [
    "features_selected = data_fe[features]\n",
    "target = data_fe['Exited_1']"
   ]
  },
  {
   "cell_type": "code",
   "execution_count": 175,
   "id": "banner-workstation",
   "metadata": {},
   "outputs": [
    {
     "data": {
      "text/plain": [
       "Age                  0.365625\n",
       "Balance             -1.226774\n",
       "Geography_Germany         0.0\n",
       "Geography_Spain           0.0\n",
       "Gender_Male               1.0\n",
       "NumOfProducts_2           1.0\n",
       "NumOfProducts_3           0.0\n",
       "NumOfProducts_4           0.0\n",
       "IsActiveMember_1          0.0\n",
       "Name: 1808, dtype: object"
      ]
     },
     "execution_count": 175,
     "metadata": {},
     "output_type": "execute_result"
    }
   ],
   "source": [
    "features_selected"
   ]
  },
  {
   "cell_type": "markdown",
   "id": "fossil-secretary",
   "metadata": {},
   "source": [
    "### f. Pediction Bank Customer"
   ]
  },
  {
   "cell_type": "code",
   "execution_count": 176,
   "id": "moral-layer",
   "metadata": {},
   "outputs": [],
   "source": [
    "pred = model.predict_proba(np.array(features_selected).reshape(1,-1))"
   ]
  },
  {
   "cell_type": "code",
   "execution_count": 187,
   "id": "collect-agency",
   "metadata": {},
   "outputs": [
    {
     "name": "stdout",
     "output_type": "stream",
     "text": [
      "Hasil Prediksi nasabah: Stay\n",
      "=================================\n",
      "Actual target nasabah: Stay\n"
     ]
    }
   ],
   "source": [
    "if pred[0,1] >= thresholdOpt:\n",
    "    print(\"Hasil Prediksi: Chrun\")\n",
    "else:\n",
    "    print(\"Hasil Prediksi nasabah: Stay\")\n",
    "    \n",
    "print(\"=================================\")\n",
    "if target == 0:\n",
    "    print(\"Actual target nasabah: Stay\")\n",
    "else:\n",
    "    print(\"Actual target Prediksi: Chrun\")"
   ]
  },
  {
   "cell_type": "markdown",
   "id": "unlike-light",
   "metadata": {},
   "source": [
    "## 7. Conclusion"
   ]
  },
  {
   "cell_type": "markdown",
   "id": "fundamental-spending",
   "metadata": {},
   "source": [
    "Kesimpulan dari project ini adalah sebagai berikut:\n",
    "- Jumlah nasabah yang tetap bersama bank lebih banyak dibandingkan jumlah nasabah yang pergi dari bank (79.63 : 20.37), sehingga untuk dapat menghasilkan model yang optimal perlu dilakukan oversampling serta threshold tuning pada model\n",
    "- Berdasarkan dari bivariate analysis, karakteristik dari nasabah yang dapat mempengaruhi bahwa nasabah tetap tinggal atau pergi yaitu NumOfPruduct, Age, isActiveMember, Geography, Balance, dan Gender \n",
    "- Model machine learning terbaik yaitu XGBoost Classifier yang dapat memprediksi nasabah tetap tinggal atau pergi dengan menggunakan data diri sebagai feature.\n",
    "- Hasil evaluasi model machine learning akhir yaitu Accuracy: 82.99%, F1 Score: 81.53%, Precision: 76.2%,dan Recall: 87.66%\n",
    "- Untuk melakukan single prediction diperlukan tahap sebagai berikut:\n",
    "    1. Load data, model, standard scaler, one hot encoder, and selected features\n",
    "    2. Drop 'RowNumber','CustomerId','Surname' columns\n",
    "    3. Change datatypes\n",
    "    4. Feature engineering\n",
    "        - Data scaling\n",
    "        - Data encoding\n",
    "        - features selection\n",
    "    5. Single prediction"
   ]
  },
  {
   "cell_type": "markdown",
   "id": "attended-compound",
   "metadata": {},
   "source": [
    "Adapun file terlampir dari hasil project ini:\n",
    "- xgb_model.pkl : file model XGBoost yang sudah dilatih dan siap digunakan\n",
    "- standardscaler.pkl : file standard scaler untuk normalisasi variabel numerik\n",
    "- encoder.pkl : file one hot encoder untuk encoding variabel kategori\n",
    "- features_selected : file list feature yang digunakan untuk melakukan prediksi"
   ]
  },
  {
   "cell_type": "markdown",
   "id": "serial-suite",
   "metadata": {},
   "source": [
    "<h1 align='center'> End <h1>"
   ]
  }
 ],
 "metadata": {
  "kernelspec": {
   "display_name": "Python 3",
   "language": "python",
   "name": "python3"
  },
  "language_info": {
   "codemirror_mode": {
    "name": "ipython",
    "version": 3
   },
   "file_extension": ".py",
   "mimetype": "text/x-python",
   "name": "python",
   "nbconvert_exporter": "python",
   "pygments_lexer": "ipython3",
   "version": "3.8.5"
  }
 },
 "nbformat": 4,
 "nbformat_minor": 5
}
